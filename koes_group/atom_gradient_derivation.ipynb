{
 "cells": [
  {
   "cell_type": "markdown",
   "metadata": {},
   "source": [
    "# Backpropagation of Atomic Gradients"
   ]
  },
  {
   "cell_type": "markdown",
   "metadata": {},
   "source": [
    "We have been working with convolutional neural networks trained on atomic grid representations of protein-ligand complexes. By discretizing chemical structures onto a grid, they can be input to the neural net in a way that naturally takes advantage of the spatial relationships in the data, and also allows us to adapt methods from fields like computer vision that have made great progress with deep learning."
   ]
  },
  {
   "cell_type": "markdown",
   "metadata": {},
   "source": [
    "Training large neural networks with many layers is possible because every component of the network is differentiable. The backpropagation algorithm allows us to compute the loss gradient at each layer of the network in succession, by first computing it at the end and then propagating it backwards by repeated application of the chain rule."
   ]
  },
  {
   "cell_type": "markdown",
   "metadata": {},
   "source": [
    "$$ \\frac{dz}{dx} = \\frac{dz}{dy} \\frac{dy}{dx} $$"
   ]
  },
  {
   "cell_type": "markdown",
   "metadata": {},
   "source": [
    "Computing the gradient of the loss with respect to the weights is what allows us to train the network by gradient descent. But having a completely differentiable architecture means that the gradient of any point in the network can be computed with respect to any point before it."
   ]
  },
  {
   "cell_type": "markdown",
   "metadata": {},
   "source": [
    "Caffe can backpropagate the gradient to the input layer, in our case the atomic grid. This says how the loss of the network changes as the values in the atom grid change. It would be useful to go one step further and have the gradient with respect to the atom positions themselves- this would allow us to optimize poses. Consider the gradient on a single atom's position using the chain rule:"
   ]
  },
  {
   "cell_type": "markdown",
   "metadata": {},
   "source": [
    "$$ \\frac{dloss}{datom} = \\frac{dloss}{dgrid} \\frac{dgrid}{datom} $$"
   ]
  },
  {
   "cell_type": "markdown",
   "metadata": {},
   "source": [
    "Since we are given the grid gradient by Caffe, we are tasked with finding the derivative of the atom grid with respect to a single atom's position. An atom can possibly affect any point on the grid, so this is a summation over grid points."
   ]
  },
  {
   "cell_type": "markdown",
   "metadata": {},
   "source": [
    "$$ \\frac{dloss}{datom} = \\sum_{x,y,z} \\frac{dloss}{dgrid_{x,y,z}} \\frac{dgrid_{x,y,z}}{datom}$$"
   ]
  },
  {
   "cell_type": "markdown",
   "metadata": {},
   "source": [
    "An atom can only affect the values of the grid corresponding to that atom type, so we only need to consider a single grid channel. We now have to determine how a single atom's position affects the value at a single gridpoint. The function that computes grid values from atom positions is defined as follows:"
   ]
  },
  {
   "cell_type": "markdown",
   "metadata": {},
   "source": [
    "\\begin{array}{ll}\n",
    "                           & e^{\\frac{-2{dist}^2}{{radius}^2}} & 0 \\leq dist \\leq radius \\\\\n",
    "      grid_{x,y,z}(dist) = & \\frac{4}{e^2r^2}{dist}^2 - \\frac{12}{e^2r}dist + \\frac{9}{e^2} & radius \\lt dist \\lt 1.5radius \\\\\n",
    "                           & 0 & 1.5radius \\leq dist \\\\\n",
    "\\end{array}"
   ]
  },
  {
   "cell_type": "markdown",
   "metadata": {},
   "source": [
    "And it's derivative:"
   ]
  },
  {
   "cell_type": "markdown",
   "metadata": {},
   "source": [
    "\\begin{array}{ll}\n",
    "                            & -\\frac{4dist}{r^2}e^{\\frac{-2{dist}^2}{{radius}^2}} & 0 \\leq dist \\leq radius \\\\\n",
    "      grid'_{x,y,z}(dist) = & \\frac{8}{e^2r^2}dist - \\frac{12}{e^2r} & radius \\lt dist \\lt 1.5radius \\\\\n",
    "                            & 0 & 1.5radius \\leq dist \\\\\n",
    "\\end{array}"
   ]
  },
  {
   "cell_type": "code",
   "execution_count": 26,
   "metadata": {
    "collapsed": false,
    "scrolled": true
   },
   "outputs": [
    {
     "data": {
      "image/png": "[encoded data removed]",
      "text/plain": [
       "<matplotlib.figure.Figure at 0x2862ca16828>"
      ]
     },
     "metadata": {},
     "output_type": "display_data"
    }
   ],
   "source": [
    "%matplotlib inline\n",
    "from math import exp\n",
    "import matplotlib.pyplot as plt\n",
    "\n",
    "def f(d, r=1):\n",
    "    if 0 <= d <= r:\n",
    "        return exp(-2*d**2/r**2)\n",
    "    elif r < d < 1.5*r:\n",
    "        return 4/(exp(2)*r**2)*d**2 - 12/(exp(2)*r)*d + 9/exp(2)\n",
    "    else:\n",
    "        return 0\n",
    "\n",
    "d = [0.1 * i for i in range(-20,20)]\n",
    "r = [f(abs(i)) for i in d]\n",
    "plt.title('Atom-Gridder Function')\n",
    "plt.ylabel('$grid$')\n",
    "plt.xlabel('$dist$')\n",
    "plt.plot(d, r)\n",
    "plt.show()"
   ]
  },
  {
   "cell_type": "markdown",
   "metadata": {},
   "source": [
    "The function is a Gaussian up to the atomic radius, then a quadratic that decays to 0 at 1.5 times the atomic radius. It is defined in terms of the distance between the atom and the gridpoint. In order to get the gradient of the atom grid in terms of atom coordinates, we need one more application of the chain rule, for each coordinate."
   ]
  },
  {
   "cell_type": "markdown",
   "metadata": {},
   "source": [
    "$$ \\frac{dgrid_{x,y,z}}{datom_x} = \\frac{dgrid_{x,y,z}}{ddist} \\frac{ddist}{datom_x} $$"
   ]
  },
  {
   "cell_type": "markdown",
   "metadata": {},
   "source": [
    "$$ \\frac{dgrid_{x,y,z}}{datom_y} = \\frac{dgrid_{x,y,z}}{ddist} \\frac{ddist}{datom_y} $$"
   ]
  },
  {
   "cell_type": "markdown",
   "metadata": {},
   "source": [
    "$$ \\frac{dgrid_{x,y,z}}{datom_z} = \\frac{dgrid_{x,y,z}}{ddist} \\frac{ddist}{datom_z} $$"
   ]
  },
  {
   "cell_type": "markdown",
   "metadata": {},
   "source": [
    "The standard Euclidean distance formula is used:"
   ]
  },
  {
   "cell_type": "markdown",
   "metadata": {},
   "source": [
    "$$ dist = \\sqrt{(grid_x - atom_x)^2 + (grid_y - atom_y)^2 + (grid_z - atom_z)^2} $$"
   ]
  },
  {
   "cell_type": "markdown",
   "metadata": {},
   "source": [
    "Its derivative takes the same form for all three coordinates:"
   ]
  },
  {
   "cell_type": "markdown",
   "metadata": {},
   "source": [
    "$$ \\frac{ddist}{datom_x} = \\frac{atom_x-grid_x}{\\sqrt{(grid_x - atom_x)^2 + (grid_y - atom_y)^2 + (grid_z - atom_z)^2}} = \\frac{atom_x-grid_x}{dist} $$"
   ]
  },
  {
   "cell_type": "markdown",
   "metadata": {},
   "source": [
    "$$ \\frac{ddist}{datom_y} = \\frac{atom_x-grid_x}{\\sqrt{(grid_y - atom_y)^2 + (grid_y - atom_y)^2 + (grid_z - atom_z)^2}} = \\frac{atom_y-grid_y}{dist} $$"
   ]
  },
  {
   "cell_type": "markdown",
   "metadata": {},
   "source": [
    "$$ \\frac{ddist}{datom_y} = \\frac{atom_x-grid_x}{\\sqrt{(grid_x - atom_x)^2 + (grid_z - atom_z)^2 + (grid_z - atom_z)^2}} = \\frac{atom_z-grid_z}{dist} $$"
   ]
  },
  {
   "cell_type": "markdown",
   "metadata": {},
   "source": [
    "Note that these correspond to component vectors of the distance from the atom to the gridpoint along each dimension."
   ]
  },
  {
   "cell_type": "markdown",
   "metadata": {},
   "source": [
    "Taking a step back to revisit the full form we are trying to solve, we have the following equation for each coordinate from two applications of the chain rule:"
   ]
  },
  {
   "cell_type": "markdown",
   "metadata": {},
   "source": [
    "$$ \\frac{dloss}{datom_x} = \\sum_{x,y,z} \\frac{dloss}{dgrid_{x,y,z}} \\frac{dgrid_{x,y,z}}{ddist} \\frac{ddist}{datom_x} $$"
   ]
  },
  {
   "cell_type": "markdown",
   "metadata": {},
   "source": [
    "$$ \\frac{dloss}{datom_y} = \\sum_{x,y,z} \\frac{dloss}{dgrid_{x,y,z}} \\frac{dgrid_{x,y,z}}{ddist} \\frac{ddist}{datom_y} $$"
   ]
  },
  {
   "cell_type": "markdown",
   "metadata": {},
   "source": [
    "$$ \\frac{dloss}{datom_z} = \\sum_{x,y,z} \\frac{dloss}{dgrid_{x,y,z}} \\frac{dgrid_{x,y,z}}{ddist} \\frac{ddist}{datom_z} $$"
   ]
  },
  {
   "cell_type": "markdown",
   "metadata": {},
   "source": [
    "We are given the first term by Caffe, and have computed the necessary derivative functions for the second and third term. Putting this all together allows us to compute the gradient of the loss function with respect to any atom's position in 3D space."
   ]
  },
  {
   "cell_type": "code",
   "execution_count": 29,
   "metadata": {
    "collapsed": false
   },
   "outputs": [
    {
     "data": {
      "text/html": [
       "<div id=\"3dmolviewer_14794071171292663\"  style=\"position: relative; width: 640px; height: 480px\">\n",
       "<script>\n",
       "if(typeof $3Dmolpromise === 'undefined') $3Dmolpromise = $.when($.getScript('http://3dmol.csb.pitt.edu/build/3Dmol.js'))\n",
       "$3Dmolpromise.done(function() {\n",
       "var viewer = $3Dmol.createViewer($(\"#3dmolviewer_14794071171292663\"),{backgroundColor:\"white\"});\n",
       "$3Dmol.download(\"pdb:1ubq\", viewer, {}, function() {\n",
       "\tviewer.setStyle({\"cartoon\": {\"color\": \"spectrum\"}});\n",
       "viewer.render();\n",
       "})\n",
       "});\n",
       "</script>"
      ],
      "text/plain": [
       "<py3Dmol.view at 0x2862cab6c18>"
      ]
     },
     "execution_count": 29,
     "metadata": {},
     "output_type": "execute_result"
    }
   ],
   "source": [
    "import py3Dmol\n",
    "view = py3Dmol.view(query='pdb:1ubq')\n",
    "view.setStyle({'cartoon':{'color':'spectrum'}})\n",
    "view"
   ]
  },
  {
   "cell_type": "code",
   "execution_count": null,
   "metadata": {
    "collapsed": true
   },
   "outputs": [],
   "source": []
  }
 ],
 "metadata": {
  "kernelspec": {
   "display_name": "Python 3",
   "language": "python",
   "name": "python3"
  },
  "language_info": {
   "codemirror_mode": {
    "name": "ipython",
    "version": 3
   },
   "file_extension": ".py",
   "mimetype": "text/x-python",
   "name": "python",
   "nbconvert_exporter": "python",
   "pygments_lexer": "ipython3",
   "version": "3.5.2"
  }
 },
 "nbformat": 4,
 "nbformat_minor": 0
}
