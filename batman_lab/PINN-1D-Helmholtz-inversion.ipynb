{
 "cells": [
  {
   "cell_type": "code",
   "execution_count": 2,
   "metadata": {},
   "outputs": [
    {
     "data": {
      "text/plain": [
       "'/ocean/projects/asc170022p/mtragoza/mre-xde/notebooks'"
      ]
     },
     "execution_count": 2,
     "metadata": {},
     "output_type": "execute_result"
    }
   ],
   "source": [
    "%pwd"
   ]
  },
  {
   "cell_type": "code",
   "execution_count": 419,
   "metadata": {},
   "outputs": [
    {
     "name": "stdout",
     "output_type": "stream",
     "text": [
      "The autoreload extension is already loaded. To reload it, use:\n",
      "  %reload_ext autoreload\n"
     ]
    },
    {
     "data": {
      "text/plain": [
       "<module 'deepxde' from '/ocean/projects/asc170022p/mtragoza/mre-xde/notebooks/../../deepxde/deepxde/__init__.py'>"
      ]
     },
     "execution_count": 419,
     "metadata": {},
     "output_type": "execute_result"
    }
   ],
   "source": [
    "%load_ext autoreload\n",
    "%matplotlib inline\n",
    "import sys, os\n",
    "import numpy as np\n",
    "import matplotlib.pyplot as plt\n",
    "import seaborn as sns\n",
    "\n",
    "sys.path.append('../../deepxde/')\n",
    "os.environ['DDEBACKEND'] = 'pytorch'\n",
    "import deepxde\n",
    "deepxde"
   ]
  },
  {
   "cell_type": "markdown",
   "metadata": {},
   "source": [
    "# 1D inverse Helmholtz problem\n",
    "\n",
    "We would like to solve an inverse problem for a one-dimensional Helmholtz equation:\n",
    "\n",
    "$$\n",
    "\\begin{align}\n",
    "    G \\nabla^2 u &= -\\rho \\omega^2 u \\\\\n",
    "    G \\frac{\\partial^2 u}{\\partial x^2} &= -\\rho \\omega^2 u\n",
    "\\end{align}\n",
    "$$\n",
    "\n",
    "Where the goal is to recover $G(x)$ given a training data set of $(x, u(x))$ pairs.\n",
    "\n",
    "## Define the geometry\n",
    "\n",
    "We will use DeepXDE to solve the PDE on the interval $x \\in [-1, 1]$.\n"
   ]
  },
  {
   "cell_type": "code",
   "execution_count": 420,
   "metadata": {},
   "outputs": [
    {
     "name": "stdout",
     "output_type": "stream",
     "text": [
      "<deepxde.geometry.geometry_1d.Interval object at 0x150bcf37f340>\n",
      "dim = 1\n",
      "bbox = (array([-1]), array([1]))\n",
      "diam = 2\n"
     ]
    }
   ],
   "source": [
    "# define the geometry (i.e. domain of x)\n",
    "geom = deepxde.geometry.Interval(-1, 1)\n",
    "print(geom)\n",
    "print(f'dim = {geom.dim}\\nbbox = {geom.bbox}\\ndiam = {geom.diam}')"
   ]
  },
  {
   "cell_type": "markdown",
   "metadata": {},
   "source": [
    "## Define the PDE residual\n",
    "\n",
    "Given some candidate solution $(\\hat{u}, \\hat{q})$, we can rearrange the PDE to obtain a residual:\n",
    "\n",
    "$$\n",
    "\\begin{align}\n",
    "    G \\nabla^2 u &= -\\rho \\omega^2 u \\\\\n",
    "    0 &= G \\nabla^2 u + \\rho \\omega^2 u \\\\\n",
    "    r(x, \\hat{u}, \\hat{G} ) &= \\hat{G} \\nabla^2 \\hat{u} + \\rho \\omega^2 \\hat{u}\n",
    "\\end{align}\n",
    "$$\n",
    "\n",
    "We will train a neural network to minimize this residual, subject to constraints in the form of a set of training data points."
   ]
  },
  {
   "cell_type": "code",
   "execution_count": 421,
   "metadata": {},
   "outputs": [],
   "source": [
    "# define the residual of the PDE\n",
    "\n",
    "rho = 1\n",
    "omega = 2*np.pi * 2\n",
    "\n",
    "def pde(x, u_G):\n",
    "    '''\n",
    "    Compute PDE residual.\n",
    "    '''\n",
    "    u, G = u_G[:,0:1], u_G[:,1:2]\n",
    "    u_xx = deepxde.grad.hessian(\n",
    "        ys=u, # output tensor of shape (batch_size, dim_y)\n",
    "        xs=x, # input tensor of shape (batch_size, dim_x)\n",
    "        component=None, # index into dim_y\n",
    "        i=0, j=0 # indices into dim_x\n",
    "    )\n",
    "    return G * u_xx + rho * omega**2 * u"
   ]
  },
  {
   "cell_type": "markdown",
   "metadata": {},
   "source": [
    "## Define a reference solution\n",
    "\n",
    "Given some true stiffness function $G(x)$ and initial conditions, we can solve for the displacement (i.e. the forward problem) using finite differences:\n",
    "\n",
    "$$\n",
    "\\begin{align}\n",
    "    G \\frac{\\partial^2 u}{\\partial x^2} &= -\\rho \\omega^2 u \\\\\n",
    "    G_i \\frac{u_{i+1} - 2 u_i + u_{i-1}}{h^2} &= -\\rho \\omega^2 u_i \\\\\n",
    "    G_i \\frac{u_{i+1} - 2 u_i + u_{i-1}}{h^2} + \\rho \\omega^2 u_i &= 0 \\\\\n",
    "    \\frac{u_{i+1} - 2 u_i + u_{i-1}}{h^2} + \\rho \\omega^2 \\frac{u_i}{G_i} &= 0 \\\\\n",
    "    \\mathbf{L} \\mathbf{u} + \\rho \\omega^2 \\mathbf{G} \\mathbf{u} &= 0 \\\\\n",
    "    \\left( \\mathbf{L} + \\rho \\omega^2 \\mathbf{G} \\right) \\mathbf{u} &= 0 \\\\\n",
    "    \\mathbf{A} \\mathbf{u} &= 0\n",
    "\\end{align}\n",
    "$$\n",
    "\n",
    "We will use this approach to define a reference solution to the PDE for training the model."
   ]
  },
  {
   "cell_type": "code",
   "execution_count": 422,
   "metadata": {},
   "outputs": [
    {
     "name": "stdout",
     "output_type": "stream",
     "text": [
      "L = \n",
      "    [[-2.  1.  0.  0.  0.  0.]\n",
      "     [ 1. -2.  1.  0.  0.  0.]\n",
      "     [ 0.  1. -2.  1.  0.  0.]\n",
      "     [ 0.  0.  1. -2.  1.  0.]\n",
      "     [ 0.  0.  0.  1. -2.  1.]\n",
      "     [ 0.  0.  0.  0.  1. -2.]]\n"
     ]
    }
   ],
   "source": [
    "# functions for defining a 1d discrete Laplacian matrix\n",
    "\n",
    "def tridiag(a, b, c, n):\n",
    "    return (\n",
    "        a * (np.tri(n, k=-1) - np.tri(n, k=-2)) +\n",
    "        b * np.eye(n) +\n",
    "        c * (np.tri(n, k=1) - np.tri(n, k=0))\n",
    "    )\n",
    "\n",
    "def laplacian_matrix_1d(n_x, dx):\n",
    "    return tridiag(1, -2, 1, n_x) / dx**2\n",
    "\n",
    "def print_mat(**kwargs):\n",
    "    for k, v in kwargs.items():\n",
    "        v_str = str(v).replace('\\n', '\\n    ')\n",
    "        print(f'{k} = \\n    {v_str}')\n",
    "\n",
    "L = laplacian_matrix_1d(n_x=6, dx=1)\n",
    "print_mat(L=L)"
   ]
  },
  {
   "cell_type": "code",
   "execution_count": 452,
   "metadata": {},
   "outputs": [],
   "source": [
    "# explicit method using causal/upwind difference scheme\n",
    "\n",
    "def explicit_solver_1d(x, n_x, dx, G, u0, rho, omega):\n",
    "    u = u0.copy()\n",
    "    for i in range(2, n_x):\n",
    "        u[i] = (2 - rho * omega**2 * dx**2 / G[i]) * u[i-1] - u[i-2]\n",
    "    return u\n",
    "\n",
    "# implicit method using tridiagonal linear system\n",
    "\n",
    "def implicit_solver_1d(x, n_x, dx, G, u0, rho, omega):\n",
    "\n",
    "    # set up linear system\n",
    "    L = laplacian_matrix_1d(n_x, dx)\n",
    "    G = np.diag(1 / G[:,0])\n",
    "    \n",
    "    A = L + rho * omega**2 * G\n",
    "    b = np.zeros(n_x)\n",
    "    \n",
    "    # determine boundary nodes\n",
    "    on_boundary = (np.abs(x).max(axis=1) == 1.0)\n",
    "    \n",
    "    # set boundary conditions\n",
    "    A[on_boundary,:] = 0\n",
    "    A[on_boundary,on_boundary] = 1\n",
    "    b[on_boundary] = u0[on_boundary,0]\n",
    "    \n",
    "    # solve linear system    \n",
    "    u = np.linalg.solve(A, b)\n",
    "\n",
    "    return u.reshape(-1, 1)\n",
    "\n",
    "# define the reference solution\n",
    "\n",
    "def solution(x, n_x, dx):\n",
    "    '''\n",
    "    Compute reference solution.\n",
    "    '''\n",
    "    # true stiffness function\n",
    "    G = np.ones((n_x, 1)) * rho\n",
    "    G = G + np.exp(-((x+0.5)**2).sum(axis=1, keepdims=True)*100) * rho\n",
    "    G = G + np.exp(-((x-0.5)**2).sum(axis=1, keepdims=True)*100) * -rho / 2\n",
    "    \n",
    "    # solve for displacement\n",
    "    u = np.sin(omega * x + 1)\n",
    "    u = implicit_solver_1d(x, n_x, dx, G, u, rho, omega)  \n",
    "\n",
    "    return u, G"
   ]
  },
  {
   "cell_type": "markdown",
   "metadata": {},
   "source": [
    "## Define the training data points\n",
    "\n",
    "We can then use the reference solution to create a set of training data points."
   ]
  },
  {
   "cell_type": "code",
   "execution_count": 453,
   "metadata": {},
   "outputs": [
    {
     "name": "stdout",
     "output_type": "stream",
     "text": [
      "(100, 1) (100, 1) (100, 1)\n"
     ]
    }
   ],
   "source": [
    "# define the training data set\n",
    "\n",
    "def gen_train_data(n_x):\n",
    "    '''\n",
    "    Generate training data for PDE.\n",
    "    '''\n",
    "    x = np.linspace(-1, 1, n_x)\n",
    "    dx = x[1] - x[0]\n",
    "    x = x.reshape(-1, 1)\n",
    "    u, G = solution(x, n_x, dx)\n",
    "    return x, u, G\n",
    "\n",
    "n_train = 100 # training points\n",
    "\n",
    "x, u_true, G_true = gen_train_data(n_train)\n",
    "\n",
    "print(x.shape, u_true.shape, G_true.shape)"
   ]
  },
  {
   "cell_type": "code",
   "execution_count": 454,
   "metadata": {},
   "outputs": [
    {
     "data": {
      "image/png": "[encoded data removed]",
      "text/plain": [
       "<Figure size 864x360 with 3 Axes>"
      ]
     },
     "metadata": {
      "needs_background": "light"
     },
     "output_type": "display_data"
    }
   ],
   "source": [
    "def plot_1d(x, us, Gs):\n",
    "    \n",
    "    fig, axes = plt.subplots(3, 1, figsize=(12,5))\n",
    "    \n",
    "    # plot mesh\n",
    "    ax = axes[0]\n",
    "    ax.set_title('1D uniform mesh')\n",
    "    ax.hlines(0, -1, 1)\n",
    "    ax.vlines(x, -1, 1)\n",
    "    ax.set_ylim(-2, 2)\n",
    "    \n",
    "    labels = ['true', 'predicted']\n",
    "    \n",
    "    # plot displacement\n",
    "    ax = axes[1]\n",
    "    ax.set_title('Displacement')\n",
    "    for u, label in zip(us, labels):\n",
    "        ax.plot(x, u, label=label)\n",
    "        ax.set_ylim(-2, 2)\n",
    "    ax.legend(frameon=False)\n",
    "        \n",
    "    # plot stiffness\n",
    "    ax = axes[2]\n",
    "    ax.set_title('Elasticity')\n",
    "    for G, label in zip(Gs, labels):\n",
    "        ax.plot(x, G, label=label)\n",
    "        ax.set_ylim(0, 2*rho)\n",
    "    ax.legend(frameon=False)\n",
    "        \n",
    "    for ax in axes:\n",
    "        ax.set_axisbelow(True)\n",
    "        ax.grid(True, linestyle=':')\n",
    "\n",
    "    sns.despine(fig)\n",
    "    fig.tight_layout()\n",
    "\n",
    "plot_1d(x, [u_true], [G_true])"
   ]
  },
  {
   "cell_type": "code",
   "execution_count": 455,
   "metadata": {},
   "outputs": [],
   "source": [
    "%autoreload\n",
    "\n",
    "# data is defined by a geometry, PDE residual, and boundary conditions\n",
    "\n",
    "n_domain = 200 # random samples in domain for PDE loss\n",
    "n_test  = 1000 # test evaluation points\n",
    "\n",
    "point_set = deepxde.icbc.PointSetBC(\n",
    "    points=x, # array of points where target values are known\n",
    "    values=u_true, # array of values of the exact solution\n",
    "    component=0\n",
    ")\n",
    "\n",
    "data = deepxde.data.PDE(\n",
    "    geometry=geom, # an instance of Geometry\n",
    "    pde=pde, # a global PDE or a list of PDEs\n",
    "    bcs=[point_set], # a boundary condition or list of boundary conditions\n",
    "    num_domain=n_domain,\n",
    "    anchors=x, # array of training points in addition to num_domain and num_boundary points\n",
    "    num_test=n_test # number of points sampled inside the boundary the domain for testing\n",
    ")"
   ]
  },
  {
   "cell_type": "code",
   "execution_count": 456,
   "metadata": {},
   "outputs": [
    {
     "data": {
      "text/plain": [
       "PFNN(\n",
       "  (layers): ModuleList(\n",
       "    (0): ModuleList(\n",
       "      (0): Linear(in_features=1, out_features=32, bias=True)\n",
       "      (1): Linear(in_features=1, out_features=32, bias=True)\n",
       "    )\n",
       "    (1): ModuleList(\n",
       "      (0): Linear(in_features=32, out_features=32, bias=True)\n",
       "      (1): Linear(in_features=32, out_features=32, bias=True)\n",
       "    )\n",
       "    (2): ModuleList(\n",
       "      (0): Linear(in_features=32, out_features=32, bias=True)\n",
       "      (1): Linear(in_features=32, out_features=32, bias=True)\n",
       "    )\n",
       "    (3): ModuleList(\n",
       "      (0): Linear(in_features=32, out_features=32, bias=True)\n",
       "      (1): Linear(in_features=32, out_features=32, bias=True)\n",
       "    )\n",
       "    (4): ModuleList(\n",
       "      (0): Linear(in_features=32, out_features=1, bias=True)\n",
       "      (1): Linear(in_features=32, out_features=1, bias=True)\n",
       "    )\n",
       "  )\n",
       ")"
      ]
     },
     "execution_count": 456,
     "metadata": {},
     "output_type": "execute_result"
    }
   ],
   "source": [
    "n_layers = 5\n",
    "n_hidden = 32\n",
    "activ_fn = 'sin'\n",
    "\n",
    "net = deepxde.nn.PFNN(\n",
    "    layer_sizes=[1] + [[n_hidden, n_hidden]] * (n_layers-1) + [2],\n",
    "    activation=activ_fn,\n",
    "    kernel_initializer=\"Glorot uniform\"\n",
    ")\n",
    "net"
   ]
  },
  {
   "cell_type": "code",
   "execution_count": 457,
   "metadata": {},
   "outputs": [
    {
     "name": "stdout",
     "output_type": "stream",
     "text": [
      "Compiling model...\n",
      "'compile' took 0.000368 s\n",
      "\n"
     ]
    }
   ],
   "source": [
    "model = deepxde.Model(data, net)\n",
    "model.compile(\n",
    "    optimizer='adam',\n",
    "    lr=1e-3,\n",
    "    loss_weights=[1e-5, 1]\n",
    ")"
   ]
  },
  {
   "cell_type": "code",
   "execution_count": 460,
   "metadata": {},
   "outputs": [
    {
     "name": "stdout",
     "output_type": "stream",
     "text": [
      "Training model...\n",
      "\n",
      "Step      Train loss              Test loss               Test metric\n",
      "10000     [2.36e-05, 6.14e-05]    [2.36e-05, 6.14e-05]    []  \n",
      "11000     [1.53e-05, 3.01e-05]    [1.52e-05, 3.01e-05]    []  \n",
      "12000     [1.45e-05, 2.87e-05]    [1.45e-05, 2.87e-05]    []  \n",
      "13000     [1.26e-04, 5.69e-04]    [1.24e-04, 5.69e-04]    []  \n",
      "14000     [1.30e-05, 3.49e-05]    [1.29e-05, 3.49e-05]    []  \n",
      "15000     [5.24e-05, 1.50e-04]    [5.20e-05, 1.50e-04]    []  \n",
      "16000     [1.63e-05, 4.11e-05]    [1.61e-05, 4.11e-05]    []  \n",
      "17000     [9.68e-06, 2.09e-05]    [9.65e-06, 2.09e-05]    []  \n",
      "18000     [8.40e-06, 1.84e-05]    [8.35e-06, 1.84e-05]    []  \n",
      "19000     [1.03e-05, 1.73e-05]    [1.01e-05, 1.73e-05]    []  \n",
      "20000     [6.88e-06, 1.16e-05]    [6.77e-06, 1.16e-05]    []  \n",
      "\n",
      "Best model at step 20000:\n",
      "  train loss: 1.85e-05\n",
      "  test loss: 1.84e-05\n",
      "  test metric: []\n",
      "\n",
      "'train' took 79.688606 s\n",
      "\n"
     ]
    }
   ],
   "source": [
    "loss_history, train_state = model.train(epochs=10000)"
   ]
  },
  {
   "cell_type": "code",
   "execution_count": 461,
   "metadata": {},
   "outputs": [
    {
     "data": {
      "image/png": "[encoded data removed]",
      "text/plain": [
       "<Figure size 864x360 with 3 Axes>"
      ]
     },
     "metadata": {
      "needs_background": "light"
     },
     "output_type": "display_data"
    }
   ],
   "source": [
    "# view results\n",
    "x = geom.uniform_points(n_train)\n",
    "u_true, G_true = solution(x, n_train, x[1] - x[0])\n",
    "\n",
    "u_G_pred = model.predict(x)\n",
    "u_pred, G_pred = u_G_pred[:, 0:1], u_G_pred[:, 1:2]\n",
    "\n",
    "plot_1d(x, [u_true, u_pred], [G_true, G_pred])"
   ]
  },
  {
   "cell_type": "code",
   "execution_count": null,
   "metadata": {},
   "outputs": [],
   "source": []
  },
  {
   "cell_type": "code",
   "execution_count": null,
   "metadata": {},
   "outputs": [],
   "source": []
  }
 ],
 "metadata": {
  "kernelspec": {
   "display_name": "MRE-XDE",
   "language": "python",
   "name": "mre-xde"
  },
  "language_info": {
   "codemirror_mode": {
    "name": "ipython",
    "version": 3
   },
   "file_extension": ".py",
   "mimetype": "text/x-python",
   "name": "python",
   "nbconvert_exporter": "python",
   "pygments_lexer": "ipython3",
   "version": "3.10.4"
  }
 },
 "nbformat": 4,
 "nbformat_minor": 4
}
