{
 "cells": [
  {
   "cell_type": "markdown",
   "metadata": {},
   "source": [
    "# Segmentation experiment\n",
    "\n",
    "Compare the effect of:\n",
    "- color augmentation\n",
    "    - training\n",
    "    - validation\n",
    "- model architecture\n",
    "    - DeepLab vs. ModelsGenesis"
   ]
  },
  {
   "cell_type": "code",
   "execution_count": 2,
   "metadata": {},
   "outputs": [],
   "source": [
    "%matplotlib inline\n",
    "%load_ext autoreload\n",
    "%autoreload 2"
   ]
  },
  {
   "cell_type": "code",
   "execution_count": 3,
   "metadata": {},
   "outputs": [
    {
     "data": {
      "text/plain": [
       "'/ocean/projects/asc170022p/mtragoza/mre_ai/replicate/segment'"
      ]
     },
     "execution_count": 3,
     "metadata": {},
     "output_type": "execute_result"
    }
   ],
   "source": [
    "import sys, os\n",
    "from pathlib import Path\n",
    "import pandas as pd\n",
    "import seaborn as sns\n",
    "\n",
    "project_dir = Path('/ocean/projects/asc170022p/mtragoza')\n",
    "                           \n",
    "sys.path.append(str(project_dir / 'param_search'))\n",
    "import param_search\n",
    "\n",
    "os.chdir(project_dir / 'mre_ai/replicate/segment')\n",
    "os.getcwd()"
   ]
  },
  {
   "cell_type": "code",
   "execution_count": 4,
   "metadata": {},
   "outputs": [],
   "source": [
    "# create template script\n",
    "template_file = 'train_segment.sh'\n",
    "template = '''\\\n",
    "#!/bin/bash\n",
    "#SBATCH --job-name={job_name}\n",
    "#SBATCH -A bio170034p\n",
    "#SBATCH --partition=BatComputer\n",
    "#SBATCH --gres=gpu:1\n",
    "#SBATCH --dependency=singleton\n",
    "#SBATCH --mail-type=fail\n",
    "#SBATCH --mail-user=mtr22@pitt.edu\n",
    "#SBATCH -o %J.stdout\n",
    "#SBATCH -e %J.stderr\n",
    "{job_params}\n",
    "hostname\n",
    "nvidia-smi\n",
    "source activate mre_ai\n",
    "python3 ../../../mre_ai/train_seg_model.py \\\\\n",
    "    --data_path {data_dir} \\\\\n",
    "    --data_file {data_file} \\\\\n",
    "    --output_path {output_dir} \\\\\n",
    "    --model_version {model_name} \\\\\n",
    "    --verbose true \\\\\n",
    "    --subj 001 \\\\\n",
    "    --def_seq_mode all \\\\\n",
    "    --model_arch {model_arch} \\\\\n",
    "    --loss dice \\\\\n",
    "    --step_size 60 \\\\\n",
    "    --num_epochs 100 \\\\\n",
    "    --lr 3e-2 \\\\\n",
    "    --batch_size 8 \\\\\n",
    "    --gamma 0.3 \\\\\n",
    "    --bce_weight 0.2 \\\\\n",
    "    --test_seq_mode all \\\\\n",
    "    --test_aug false \\\\\n",
    "    --train_aug true \\\\\n",
    "    --val_aug false \\\\\n",
    "    --test_clip false \\\\\n",
    "    --train_clip false \\\\\n",
    "    --val_clip false \\\\\n",
    "    --test_color_aug false \\\\\n",
    "    --train_color_aug {color_augment} \\\\\n",
    "    --val_color_aug false \\\\\n",
    "    --worker_init_fn rand_epoch \\\\\n",
    "    --dry_run False\n",
    "'''\n",
    "with open(template_file, 'w') as f:\n",
    "    f.write(template)"
   ]
  },
  {
   "cell_type": "code",
   "execution_count": 9,
   "metadata": {},
   "outputs": [
    {
     "data": {
      "text/plain": [
       "4"
      ]
     },
     "execution_count": 9,
     "metadata": {},
     "output_type": "execute_result"
    }
   ],
   "source": [
    "# define parameter space\n",
    "param_space = param_search.ParamSpace(\n",
    "    data_dir='/ocean/projects/asc170022p/bpollack/mre_ai/data/CHAOS/',\n",
    "    data_file='xarray_chaos_v2.nc',\n",
    "    output_dir='/ocean/projects/asc170022p/mtragoza/mre_ai/replicate/segment',\n",
    "    model_arch=['3D', 'ModelsGenesis3D'],\n",
    "    color_augment=['f', 't'],\n",
    "    model_name='ASDF',\n",
    "    group=0,\n",
    ")\n",
    "len(param_space)"
   ]
  },
  {
   "cell_type": "code",
   "execution_count": 10,
   "metadata": {},
   "outputs": [],
   "source": [
    "# create job scripts\n",
    "job_files = param_search.setup(\n",
    "    expt_dir='',\n",
    "    name_format='train_segment_{group}_{model_arch}_{color_augment}',\n",
    "    template_file=template_file,\n",
    "    param_space=param_space,\n",
    ")"
   ]
  },
  {
   "cell_type": "code",
   "execution_count": 56,
   "metadata": {},
   "outputs": [
    {
     "data": {
      "text/plain": [
       "[5556724, 5556725, 5556726, 5556727]"
      ]
     },
     "execution_count": 56,
     "metadata": {},
     "output_type": "execute_result"
    }
   ],
   "source": [
    "# submit jobs to cluster\n",
    "job_ids = param_search.submit(job_files)\n",
    "job_ids"
   ]
  },
  {
   "cell_type": "code",
   "execution_count": 11,
   "metadata": {},
   "outputs": [
    {
     "data": {
      "text/html": [
       "<div>\n",
       "<style scoped>\n",
       "    .dataframe tbody tr th:only-of-type {\n",
       "        vertical-align: middle;\n",
       "    }\n",
       "\n",
       "    .dataframe tbody tr th {\n",
       "        vertical-align: top;\n",
       "    }\n",
       "\n",
       "    .dataframe thead th {\n",
       "        text-align: right;\n",
       "    }\n",
       "</style>\n",
       "<table border=\"1\" class=\"dataframe\">\n",
       "  <thead>\n",
       "    <tr style=\"text-align: right;\">\n",
       "      <th></th>\n",
       "      <th>job_id</th>\n",
       "      <th>queue</th>\n",
       "      <th>job_name</th>\n",
       "      <th>user</th>\n",
       "      <th>job_state</th>\n",
       "      <th>runtime</th>\n",
       "      <th>walltime</th>\n",
       "      <th>node_id</th>\n",
       "      <th>work_dir</th>\n",
       "      <th>array_idx</th>\n",
       "    </tr>\n",
       "  </thead>\n",
       "  <tbody>\n",
       "  </tbody>\n",
       "</table>\n",
       "</div>"
      ],
      "text/plain": [
       "Empty DataFrame\n",
       "Columns: [job_id, queue, job_name, user, job_state, runtime, walltime, node_id, work_dir, array_idx]\n",
       "Index: []"
      ]
     },
     "execution_count": 11,
     "metadata": {},
     "output_type": "execute_result"
    }
   ],
   "source": [
    "# monitor job status\n",
    "job_ids = [5556724, 5556725, 5556726, 5556727]\n",
    "qstat = param_search.status(job=job_ids)\n",
    "qstat"
   ]
  },
  {
   "cell_type": "code",
   "execution_count": 12,
   "metadata": {},
   "outputs": [
    {
     "name": "stdout",
     "output_type": "stream",
     "text": [
      "...."
     ]
    },
    {
     "data": {
      "text/plain": [
       "[None, None, None, None]"
      ]
     },
     "execution_count": 12,
     "metadata": {},
     "output_type": "execute_result"
    }
   ],
   "source": [
    "# check for errors\n",
    "param_search.errors(job_files)"
   ]
  },
  {
   "cell_type": "code",
   "execution_count": 13,
   "metadata": {},
   "outputs": [
    {
     "data": {
      "text/html": [
       "<div>\n",
       "<style scoped>\n",
       "    .dataframe tbody tr th:only-of-type {\n",
       "        vertical-align: middle;\n",
       "    }\n",
       "\n",
       "    .dataframe tbody tr th {\n",
       "        vertical-align: top;\n",
       "    }\n",
       "\n",
       "    .dataframe thead th {\n",
       "        text-align: right;\n",
       "    }\n",
       "</style>\n",
       "<table border=\"1\" class=\"dataframe\">\n",
       "  <thead>\n",
       "    <tr style=\"text-align: right;\">\n",
       "      <th></th>\n",
       "      <th>epoch</th>\n",
       "      <th>phase</th>\n",
       "      <th>batch</th>\n",
       "      <th>loss</th>\n",
       "      <th>dice</th>\n",
       "      <th>bce</th>\n",
       "      <th>data_dir</th>\n",
       "      <th>data_file</th>\n",
       "      <th>output_dir</th>\n",
       "      <th>model_arch</th>\n",
       "      <th>color_augment</th>\n",
       "      <th>model_name</th>\n",
       "      <th>group</th>\n",
       "      <th>job_name</th>\n",
       "    </tr>\n",
       "  </thead>\n",
       "  <tbody>\n",
       "    <tr>\n",
       "      <th>0</th>\n",
       "      <td>0</td>\n",
       "      <td>train</td>\n",
       "      <td>0</td>\n",
       "      <td>0.733723</td>\n",
       "      <td>0.915989</td>\n",
       "      <td>0.551457</td>\n",
       "      <td>/ocean/projects/asc170022p/bpollack/mre_ai/dat...</td>\n",
       "      <td>xarray_chaos_v2.nc</td>\n",
       "      <td>/ocean/projects/asc170022p/mtragoza/mre_ai/rep...</td>\n",
       "      <td>3D</td>\n",
       "      <td>f</td>\n",
       "      <td>ASDF</td>\n",
       "      <td>0</td>\n",
       "      <td>train_segment_0_3D_f</td>\n",
       "    </tr>\n",
       "    <tr>\n",
       "      <th>1</th>\n",
       "      <td>0</td>\n",
       "      <td>train</td>\n",
       "      <td>1</td>\n",
       "      <td>0.981364</td>\n",
       "      <td>0.966834</td>\n",
       "      <td>0.995894</td>\n",
       "      <td>/ocean/projects/asc170022p/bpollack/mre_ai/dat...</td>\n",
       "      <td>xarray_chaos_v2.nc</td>\n",
       "      <td>/ocean/projects/asc170022p/mtragoza/mre_ai/rep...</td>\n",
       "      <td>3D</td>\n",
       "      <td>f</td>\n",
       "      <td>ASDF</td>\n",
       "      <td>0</td>\n",
       "      <td>train_segment_0_3D_f</td>\n",
       "    </tr>\n",
       "    <tr>\n",
       "      <th>2</th>\n",
       "      <td>0</td>\n",
       "      <td>train</td>\n",
       "      <td>2</td>\n",
       "      <td>0.797511</td>\n",
       "      <td>0.979353</td>\n",
       "      <td>0.615670</td>\n",
       "      <td>/ocean/projects/asc170022p/bpollack/mre_ai/dat...</td>\n",
       "      <td>xarray_chaos_v2.nc</td>\n",
       "      <td>/ocean/projects/asc170022p/mtragoza/mre_ai/rep...</td>\n",
       "      <td>3D</td>\n",
       "      <td>f</td>\n",
       "      <td>ASDF</td>\n",
       "      <td>0</td>\n",
       "      <td>train_segment_0_3D_f</td>\n",
       "    </tr>\n",
       "    <tr>\n",
       "      <th>3</th>\n",
       "      <td>0</td>\n",
       "      <td>train</td>\n",
       "      <td>3</td>\n",
       "      <td>0.611262</td>\n",
       "      <td>0.936282</td>\n",
       "      <td>0.286241</td>\n",
       "      <td>/ocean/projects/asc170022p/bpollack/mre_ai/dat...</td>\n",
       "      <td>xarray_chaos_v2.nc</td>\n",
       "      <td>/ocean/projects/asc170022p/mtragoza/mre_ai/rep...</td>\n",
       "      <td>3D</td>\n",
       "      <td>f</td>\n",
       "      <td>ASDF</td>\n",
       "      <td>0</td>\n",
       "      <td>train_segment_0_3D_f</td>\n",
       "    </tr>\n",
       "    <tr>\n",
       "      <th>4</th>\n",
       "      <td>0</td>\n",
       "      <td>train</td>\n",
       "      <td>4</td>\n",
       "      <td>0.589306</td>\n",
       "      <td>0.910929</td>\n",
       "      <td>0.267683</td>\n",
       "      <td>/ocean/projects/asc170022p/bpollack/mre_ai/dat...</td>\n",
       "      <td>xarray_chaos_v2.nc</td>\n",
       "      <td>/ocean/projects/asc170022p/mtragoza/mre_ai/rep...</td>\n",
       "      <td>3D</td>\n",
       "      <td>f</td>\n",
       "      <td>ASDF</td>\n",
       "      <td>0</td>\n",
       "      <td>train_segment_0_3D_f</td>\n",
       "    </tr>\n",
       "    <tr>\n",
       "      <th>...</th>\n",
       "      <td>...</td>\n",
       "      <td>...</td>\n",
       "      <td>...</td>\n",
       "      <td>...</td>\n",
       "      <td>...</td>\n",
       "      <td>...</td>\n",
       "      <td>...</td>\n",
       "      <td>...</td>\n",
       "      <td>...</td>\n",
       "      <td>...</td>\n",
       "      <td>...</td>\n",
       "      <td>...</td>\n",
       "      <td>...</td>\n",
       "      <td>...</td>\n",
       "    </tr>\n",
       "    <tr>\n",
       "      <th>895</th>\n",
       "      <td>99</td>\n",
       "      <td>train</td>\n",
       "      <td>4</td>\n",
       "      <td>0.158518</td>\n",
       "      <td>0.254519</td>\n",
       "      <td>0.062517</td>\n",
       "      <td>/ocean/projects/asc170022p/bpollack/mre_ai/dat...</td>\n",
       "      <td>xarray_chaos_v2.nc</td>\n",
       "      <td>/ocean/projects/asc170022p/mtragoza/mre_ai/rep...</td>\n",
       "      <td>ModelsGenesis3D</td>\n",
       "      <td>t</td>\n",
       "      <td>ASDF</td>\n",
       "      <td>0</td>\n",
       "      <td>train_segment_0_ModelsGenesis3D_t</td>\n",
       "    </tr>\n",
       "    <tr>\n",
       "      <th>896</th>\n",
       "      <td>99</td>\n",
       "      <td>train</td>\n",
       "      <td>5</td>\n",
       "      <td>0.135273</td>\n",
       "      <td>0.224099</td>\n",
       "      <td>0.046448</td>\n",
       "      <td>/ocean/projects/asc170022p/bpollack/mre_ai/dat...</td>\n",
       "      <td>xarray_chaos_v2.nc</td>\n",
       "      <td>/ocean/projects/asc170022p/mtragoza/mre_ai/rep...</td>\n",
       "      <td>ModelsGenesis3D</td>\n",
       "      <td>t</td>\n",
       "      <td>ASDF</td>\n",
       "      <td>0</td>\n",
       "      <td>train_segment_0_ModelsGenesis3D_t</td>\n",
       "    </tr>\n",
       "    <tr>\n",
       "      <th>897</th>\n",
       "      <td>99</td>\n",
       "      <td>train</td>\n",
       "      <td>6</td>\n",
       "      <td>0.172786</td>\n",
       "      <td>0.265870</td>\n",
       "      <td>0.079703</td>\n",
       "      <td>/ocean/projects/asc170022p/bpollack/mre_ai/dat...</td>\n",
       "      <td>xarray_chaos_v2.nc</td>\n",
       "      <td>/ocean/projects/asc170022p/mtragoza/mre_ai/rep...</td>\n",
       "      <td>ModelsGenesis3D</td>\n",
       "      <td>t</td>\n",
       "      <td>ASDF</td>\n",
       "      <td>0</td>\n",
       "      <td>train_segment_0_ModelsGenesis3D_t</td>\n",
       "    </tr>\n",
       "    <tr>\n",
       "      <th>898</th>\n",
       "      <td>99</td>\n",
       "      <td>train</td>\n",
       "      <td>7</td>\n",
       "      <td>0.178673</td>\n",
       "      <td>0.292398</td>\n",
       "      <td>0.064948</td>\n",
       "      <td>/ocean/projects/asc170022p/bpollack/mre_ai/dat...</td>\n",
       "      <td>xarray_chaos_v2.nc</td>\n",
       "      <td>/ocean/projects/asc170022p/mtragoza/mre_ai/rep...</td>\n",
       "      <td>ModelsGenesis3D</td>\n",
       "      <td>t</td>\n",
       "      <td>ASDF</td>\n",
       "      <td>0</td>\n",
       "      <td>train_segment_0_ModelsGenesis3D_t</td>\n",
       "    </tr>\n",
       "    <tr>\n",
       "      <th>899</th>\n",
       "      <td>99</td>\n",
       "      <td>val</td>\n",
       "      <td>0</td>\n",
       "      <td>0.150441</td>\n",
       "      <td>0.240111</td>\n",
       "      <td>0.060772</td>\n",
       "      <td>/ocean/projects/asc170022p/bpollack/mre_ai/dat...</td>\n",
       "      <td>xarray_chaos_v2.nc</td>\n",
       "      <td>/ocean/projects/asc170022p/mtragoza/mre_ai/rep...</td>\n",
       "      <td>ModelsGenesis3D</td>\n",
       "      <td>t</td>\n",
       "      <td>ASDF</td>\n",
       "      <td>0</td>\n",
       "      <td>train_segment_0_ModelsGenesis3D_t</td>\n",
       "    </tr>\n",
       "  </tbody>\n",
       "</table>\n",
       "<p>3600 rows × 14 columns</p>\n",
       "</div>"
      ],
      "text/plain": [
       "     epoch  phase  batch      loss      dice       bce  \\\n",
       "0        0  train      0  0.733723  0.915989  0.551457   \n",
       "1        0  train      1  0.981364  0.966834  0.995894   \n",
       "2        0  train      2  0.797511  0.979353  0.615670   \n",
       "3        0  train      3  0.611262  0.936282  0.286241   \n",
       "4        0  train      4  0.589306  0.910929  0.267683   \n",
       "..     ...    ...    ...       ...       ...       ...   \n",
       "895     99  train      4  0.158518  0.254519  0.062517   \n",
       "896     99  train      5  0.135273  0.224099  0.046448   \n",
       "897     99  train      6  0.172786  0.265870  0.079703   \n",
       "898     99  train      7  0.178673  0.292398  0.064948   \n",
       "899     99    val      0  0.150441  0.240111  0.060772   \n",
       "\n",
       "                                              data_dir           data_file  \\\n",
       "0    /ocean/projects/asc170022p/bpollack/mre_ai/dat...  xarray_chaos_v2.nc   \n",
       "1    /ocean/projects/asc170022p/bpollack/mre_ai/dat...  xarray_chaos_v2.nc   \n",
       "2    /ocean/projects/asc170022p/bpollack/mre_ai/dat...  xarray_chaos_v2.nc   \n",
       "3    /ocean/projects/asc170022p/bpollack/mre_ai/dat...  xarray_chaos_v2.nc   \n",
       "4    /ocean/projects/asc170022p/bpollack/mre_ai/dat...  xarray_chaos_v2.nc   \n",
       "..                                                 ...                 ...   \n",
       "895  /ocean/projects/asc170022p/bpollack/mre_ai/dat...  xarray_chaos_v2.nc   \n",
       "896  /ocean/projects/asc170022p/bpollack/mre_ai/dat...  xarray_chaos_v2.nc   \n",
       "897  /ocean/projects/asc170022p/bpollack/mre_ai/dat...  xarray_chaos_v2.nc   \n",
       "898  /ocean/projects/asc170022p/bpollack/mre_ai/dat...  xarray_chaos_v2.nc   \n",
       "899  /ocean/projects/asc170022p/bpollack/mre_ai/dat...  xarray_chaos_v2.nc   \n",
       "\n",
       "                                            output_dir       model_arch  \\\n",
       "0    /ocean/projects/asc170022p/mtragoza/mre_ai/rep...               3D   \n",
       "1    /ocean/projects/asc170022p/mtragoza/mre_ai/rep...               3D   \n",
       "2    /ocean/projects/asc170022p/mtragoza/mre_ai/rep...               3D   \n",
       "3    /ocean/projects/asc170022p/mtragoza/mre_ai/rep...               3D   \n",
       "4    /ocean/projects/asc170022p/mtragoza/mre_ai/rep...               3D   \n",
       "..                                                 ...              ...   \n",
       "895  /ocean/projects/asc170022p/mtragoza/mre_ai/rep...  ModelsGenesis3D   \n",
       "896  /ocean/projects/asc170022p/mtragoza/mre_ai/rep...  ModelsGenesis3D   \n",
       "897  /ocean/projects/asc170022p/mtragoza/mre_ai/rep...  ModelsGenesis3D   \n",
       "898  /ocean/projects/asc170022p/mtragoza/mre_ai/rep...  ModelsGenesis3D   \n",
       "899  /ocean/projects/asc170022p/mtragoza/mre_ai/rep...  ModelsGenesis3D   \n",
       "\n",
       "    color_augment model_name  group                           job_name  \n",
       "0               f       ASDF      0               train_segment_0_3D_f  \n",
       "1               f       ASDF      0               train_segment_0_3D_f  \n",
       "2               f       ASDF      0               train_segment_0_3D_f  \n",
       "3               f       ASDF      0               train_segment_0_3D_f  \n",
       "4               f       ASDF      0               train_segment_0_3D_f  \n",
       "..            ...        ...    ...                                ...  \n",
       "895             t       ASDF      0  train_segment_0_ModelsGenesis3D_t  \n",
       "896             t       ASDF      0  train_segment_0_ModelsGenesis3D_t  \n",
       "897             t       ASDF      0  train_segment_0_ModelsGenesis3D_t  \n",
       "898             t       ASDF      0  train_segment_0_ModelsGenesis3D_t  \n",
       "899             t       ASDF      0  train_segment_0_ModelsGenesis3D_t  \n",
       "\n",
       "[3600 rows x 14 columns]"
      ]
     },
     "execution_count": 13,
     "metadata": {},
     "output_type": "execute_result"
    }
   ],
   "source": [
    "# collect metrics\n",
    "metrics = param_search.metrics(job_files)\n",
    "metrics"
   ]
  },
  {
   "cell_type": "code",
   "execution_count": 30,
   "metadata": {},
   "outputs": [
    {
     "data": {
      "text/plain": [
       "[(0.6718954248366014, 0.8143790849673203, 0.9006535947712418),\n",
       " (0.21568627450980393, 0.5294117647058824, 0.7542483660130719),\n",
       " (0.681045751633987, 0.8718954248366013, 0.6562091503267974),\n",
       " (0.21568627450980393, 0.6287581699346405, 0.3333333333333333)]"
      ]
     },
     "execution_count": 30,
     "metadata": {},
     "output_type": "execute_result"
    }
   ],
   "source": [
    "colors = sns.color_palette('Blues', 2) + sns.color_palette('Greens', 2)\n",
    "sns.set_palette(colors)\n",
    "colors"
   ]
  },
  {
   "cell_type": "code",
   "execution_count": 33,
   "metadata": {},
   "outputs": [
    {
     "name": "stderr",
     "output_type": "stream",
     "text": [
      "/ocean/projects/asc170022p/mtragoza/param_search/param_search/results.py:54: SettingWithCopyWarning: \n",
      "A value is trying to be set on a copy of a slice from a DataFrame.\n",
      "Try using .loc[row_indexer,col_indexer] = value instead\n",
      "\n",
      "See the caveats in the documentation: https://pandas.pydata.org/pandas-docs/stable/user_guide/indexing.html#returning-a-view-versus-a-copy\n",
      "  df[group] = df[group_cols].apply(make_group_value, axis=1)\n"
     ]
    },
    {
     "data": {
      "image/png": "[encoded data removed]",
      "text/plain": [
       "<Figure size 864x432 with 3 Axes>"
      ]
     },
     "metadata": {
      "needs_background": "light"
     },
     "output_type": "display_data"
    }
   ],
   "source": [
    "fig = param_search.plot(\n",
    "    metrics[\n",
    "        (metrics.phase == 'val')\n",
    "    ],\n",
    "    x='epoch',\n",
    "    y=['loss', 'dice', 'bce'],\n",
    "    hue=['model_arch', 'color_augment'],\n",
    "    plot_func=sns.lineplot,\n",
    "    n_cols=3,\n",
    "    height=6,\n",
    "    width=4,\n",
    "    ylim=dict(\n",
    "        loss=[0, 1],\n",
    "        dice=[0, 1],\n",
    "        bce=[0, 1],\n",
    "    )\n",
    ")"
   ]
  },
  {
   "cell_type": "code",
   "execution_count": null,
   "metadata": {},
   "outputs": [],
   "source": []
  }
 ],
 "metadata": {
  "kernelspec": {
   "display_name": "mre_ai",
   "language": "python",
   "name": "mre_ai"
  },
  "language_info": {
   "codemirror_mode": {
    "name": "ipython",
    "version": 3
   },
   "file_extension": ".py",
   "mimetype": "text/x-python",
   "name": "python",
   "nbconvert_exporter": "python",
   "pygments_lexer": "ipython3",
   "version": "3.8.8"
  }
 },
 "nbformat": 4,
 "nbformat_minor": 4
}
