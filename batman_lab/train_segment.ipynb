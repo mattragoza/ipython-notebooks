{
 "cells": [
  {
   "cell_type": "code",
   "execution_count": 2,
   "metadata": {},
   "outputs": [
    {
     "data": {
      "text/plain": [
       "'/ocean/projects/asc170022p/mtragoza/mre_ai/replicate/segment'"
      ]
     },
     "execution_count": 2,
     "metadata": {},
     "output_type": "execute_result"
    }
   ],
   "source": [
    "%matplotlib inline\n",
    "%load_ext autoreload\n",
    "%autoreload 2\n",
    "import sys, os\n",
    "sys.path.append('../../param_search')\n",
    "import param_search\n",
    "\n",
    "os.chdir('../../mre_ai/replicate/segment')\n",
    "os.getcwd()"
   ]
  },
  {
   "cell_type": "code",
   "execution_count": 3,
   "metadata": {},
   "outputs": [],
   "source": [
    "# create template script\n",
    "template_file = 'train_segment.sh'\n",
    "template = '''\\\n",
    "#!/bin/bash\n",
    "#SBATCH --job-name={job_name}\n",
    "#SBATCH --nodes=1\n",
    "#SBATCH --mail-user=mtr22@pitt.edu\n",
    "#SBATCH -o %J.stdout\n",
    "#SBATCH -e %J.stderr\n",
    "{job_params}\n",
    "hostname\n",
    "nvidia-smi\n",
    "conda activate mre_ai\n",
    "python3 ../../../mre_ai/train_seg_model.py \\\\\n",
    "    --data_path {data_dir} \\\\\n",
    "    --data_file {data_file} \\\\\n",
    "    --output_dir {output_dir} \\\\\n",
    "    --model_version {model_name} \\\\\n",
    "    --verbose true \\\\\n",
    "    --subj 001 \\\\\n",
    "    --def_seq_mode all \\\\\n",
    "    --model_arch {model_arch} \\\\\n",
    "    --loss dice \\\\\n",
    "    --step_size 60 \\\\\n",
    "    --num_epochs 100 \\\\\n",
    "    --lr 3e-2 \\\\\n",
    "    --batch_size 8 \\\\\n",
    "    --gamma 0.3 \\\\\n",
    "    --bce_weight 0.2 \\\\\n",
    "    --test_seq_mode all \\\\\n",
    "    --test_aug false \\\\\n",
    "    --train_aug true \\\\\n",
    "    --val_aug false \\\\\n",
    "    --test_clip false \\\\\n",
    "    --train_clip false \\\\\n",
    "    --val_clip false \\\\\n",
    "    --test_color_aug false \\\\\n",
    "    --train_color_aug {color_augment} \\\\\n",
    "    --val_color_aug false \\\\\n",
    "    --worker_init_fn rand_epoch \\\\\n",
    "    --dry_run false\n",
    "'''\n",
    "with open(template_file, 'w') as f:\n",
    "    f.write(template)"
   ]
  },
  {
   "cell_type": "code",
   "execution_count": 5,
   "metadata": {},
   "outputs": [
    {
     "data": {
      "text/plain": [
       "6"
      ]
     },
     "execution_count": 5,
     "metadata": {},
     "output_type": "execute_result"
    }
   ],
   "source": [
    "# define parameter space\n",
    "param_space = param_search.ParamSpace(\n",
    "    data_dir='/ocean/projects/asc170022p/bpollack/mre_ai/data/CHAOS/',\n",
    "    data_file='xarray_chaos_v2.nc',\n",
    "    output_dir='/ocean/projects/asc170022p/mtragoza/mre_ai/replicate/segment',\n",
    "    model_name='ASDF',\n",
    "    model_arch=[\n",
    "        'UNet', 'DeepLab', 'ModelsGenesis3D'\n",
    "    ],\n",
    "    color_augment=[0, 1],\n",
    ")\n",
    "len(param_space)"
   ]
  },
  {
   "cell_type": "code",
   "execution_count": null,
   "metadata": {},
   "outputs": [],
   "source": []
  }
 ],
 "metadata": {
  "kernelspec": {
   "display_name": "mre_ai",
   "language": "python",
   "name": "mre_ai"
  },
  "language_info": {
   "codemirror_mode": {
    "name": "ipython",
    "version": 3
   },
   "file_extension": ".py",
   "mimetype": "text/x-python",
   "name": "python",
   "nbconvert_exporter": "python",
   "pygments_lexer": "ipython3",
   "version": "3.8.8"
  }
 },
 "nbformat": 4,
 "nbformat_minor": 4
}
