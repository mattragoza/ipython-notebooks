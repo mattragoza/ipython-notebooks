{
 "cells": [
  {
   "cell_type": "markdown",
   "metadata": {},
   "source": [
    "# Running experiments on a cluster with `param_search`\n",
    "\n",
    "This Python package makes it easy to launch lots of jobs with different parameters to a computing cluster. It also has features to monitor the status of running or completed jobs, aggregate their output metrics, and create some basic visualizations."
   ]
  },
  {
   "cell_type": "code",
   "execution_count": 31,
   "metadata": {},
   "outputs": [
    {
     "name": "stdout",
     "output_type": "stream",
     "text": [
      "The autoreload extension is already loaded. To reload it, use:\n",
      "  %reload_ext autoreload\n"
     ]
    },
    {
     "data": {
      "text/plain": [
       "'/net/pulsar/home/koes/mtr22/ipython-notebooks'"
      ]
     },
     "execution_count": 31,
     "metadata": {},
     "output_type": "execute_result"
    }
   ],
   "source": [
    "%matplotlib inline\n",
    "%load_ext autoreload\n",
    "%autoreload 2\n",
    "import sys, os\n",
    "sys.path.append(os.environ['LIGAN_ROOT'])\n",
    "import param_search\n",
    "os.getcwd()"
   ]
  },
  {
   "cell_type": "markdown",
   "metadata": {},
   "source": [
    "## 1) Create a template job script\n",
    "This is the script that you want to evaluate using ranges of different parameters. The parameters are specified as Python string formatting fields, i.e. using curly braces. There are also two optional built-in fields, `job_name` and `job_params`. The `job_name` field will be filled in with a parameterized job name, and the `job_params` field will be replaced by a comment block that displays what parameters were used to create each script."
   ]
  },
  {
   "cell_type": "code",
   "execution_count": 20,
   "metadata": {},
   "outputs": [],
   "source": [
    "template_file = 'my_job.sh'\n",
    "template = '''\\\n",
    "#!/bin/bash\n",
    "#SBATCH --job-name={job_name}\n",
    "#SBATCH -o %J.stdout\n",
    "#SBATCH -e %J.stderr\n",
    "{job_params}\n",
    "product=$(python3 -c \"print({term1}*{term2})\")\n",
    "quotient=$(python3 -c \"import numpy as np; print(np.true_divide({term1}, {term2}))\")\n",
    "echo \"product quotient\\n$product $quotient\" > $SLURM_JOB_ID.metrics\n",
    "'''\n",
    "with open(template_file, 'w') as f:\n",
    "    f.write(template)"
   ]
  },
  {
   "cell_type": "markdown",
   "metadata": {},
   "source": [
    "## 2) Define the parameter search space\n",
    "\n",
    "Use the `ParamSpace` object to define the ranges of values for the parameters you want to explore. It is a subclass of `OrderedDict` that expects each key to be assigned as either a single value or iterable of values (strings are considered single values). Then, iterating over the `ParamSpace` produces parameter assignments from the Cartesian product over the defined parameter ranges."
   ]
  },
  {
   "cell_type": "code",
   "execution_count": 23,
   "metadata": {},
   "outputs": [
    {
     "data": {
      "text/plain": [
       "[Params([('term1', 1), ('term2', 1)]),\n",
       " Params([('term1', 1), ('term2', 2)]),\n",
       " Params([('term1', 1), ('term2', 3)]),\n",
       " Params([('term1', 1), ('term2', 4)]),\n",
       " Params([('term1', 1), ('term2', 5)]),\n",
       " Params([('term1', 2), ('term2', 1)]),\n",
       " Params([('term1', 2), ('term2', 2)]),\n",
       " Params([('term1', 2), ('term2', 3)]),\n",
       " Params([('term1', 2), ('term2', 4)]),\n",
       " Params([('term1', 2), ('term2', 5)]),\n",
       " Params([('term1', 3), ('term2', 1)]),\n",
       " Params([('term1', 3), ('term2', 2)]),\n",
       " Params([('term1', 3), ('term2', 3)]),\n",
       " Params([('term1', 3), ('term2', 4)]),\n",
       " Params([('term1', 3), ('term2', 5)]),\n",
       " Params([('term1', 4), ('term2', 1)]),\n",
       " Params([('term1', 4), ('term2', 2)]),\n",
       " Params([('term1', 4), ('term2', 3)]),\n",
       " Params([('term1', 4), ('term2', 4)]),\n",
       " Params([('term1', 4), ('term2', 5)]),\n",
       " Params([('term1', 5), ('term2', 1)]),\n",
       " Params([('term1', 5), ('term2', 2)]),\n",
       " Params([('term1', 5), ('term2', 3)]),\n",
       " Params([('term1', 5), ('term2', 4)]),\n",
       " Params([('term1', 5), ('term2', 5)])]"
      ]
     },
     "execution_count": 23,
     "metadata": {},
     "output_type": "execute_result"
    }
   ],
   "source": [
    "param_space = param_search.ParamSpace(\n",
    "    term1=range(1, 6),\n",
    "    term2=range(1, 6),\n",
    ")\n",
    "list(param_space)"
   ]
  },
  {
   "cell_type": "markdown",
   "metadata": {},
   "source": [
    "## 3) Setup parameterized job scripts\n",
    "The `setup` function fills in the parameter fields in the template script with each parameter assignment in the parameter space, then writes out each of these parameterized job scripts to a separate subdirectory. The subdirectories are named according to a Python formatting string `name_format`, which is also used to fill in the `job_name` field in the template script."
   ]
  },
  {
   "cell_type": "code",
   "execution_count": 25,
   "metadata": {
    "scrolled": false
   },
   "outputs": [
    {
     "data": {
      "text/plain": [
       "['my_experiment/my_job_1_1/my_job.sh',\n",
       " 'my_experiment/my_job_1_2/my_job.sh',\n",
       " 'my_experiment/my_job_1_3/my_job.sh',\n",
       " 'my_experiment/my_job_1_4/my_job.sh',\n",
       " 'my_experiment/my_job_1_5/my_job.sh',\n",
       " 'my_experiment/my_job_2_1/my_job.sh',\n",
       " 'my_experiment/my_job_2_2/my_job.sh',\n",
       " 'my_experiment/my_job_2_3/my_job.sh',\n",
       " 'my_experiment/my_job_2_4/my_job.sh',\n",
       " 'my_experiment/my_job_2_5/my_job.sh',\n",
       " 'my_experiment/my_job_3_1/my_job.sh',\n",
       " 'my_experiment/my_job_3_2/my_job.sh',\n",
       " 'my_experiment/my_job_3_3/my_job.sh',\n",
       " 'my_experiment/my_job_3_4/my_job.sh',\n",
       " 'my_experiment/my_job_3_5/my_job.sh',\n",
       " 'my_experiment/my_job_4_1/my_job.sh',\n",
       " 'my_experiment/my_job_4_2/my_job.sh',\n",
       " 'my_experiment/my_job_4_3/my_job.sh',\n",
       " 'my_experiment/my_job_4_4/my_job.sh',\n",
       " 'my_experiment/my_job_4_5/my_job.sh',\n",
       " 'my_experiment/my_job_5_1/my_job.sh',\n",
       " 'my_experiment/my_job_5_2/my_job.sh',\n",
       " 'my_experiment/my_job_5_3/my_job.sh',\n",
       " 'my_experiment/my_job_5_4/my_job.sh',\n",
       " 'my_experiment/my_job_5_5/my_job.sh']"
      ]
     },
     "execution_count": 25,
     "metadata": {},
     "output_type": "execute_result"
    }
   ],
   "source": [
    "job_files = param_search.setup(\n",
    "    expt_dir='my_experiment',\n",
    "    name_format='my_job_{term1}_{term2}',\n",
    "    template_file=template_file,\n",
    "    param_space=param_space\n",
    ")\n",
    "job_files"
   ]
  },
  {
   "cell_type": "markdown",
   "metadata": {},
   "source": [
    "## 4) Submit job scripts to the cluster\n",
    "The `submit` function submits a list of job scripts to a computing cluster with Slurm or Torque. It returns the job IDs associated with each submitted job."
   ]
  },
  {
   "cell_type": "code",
   "execution_count": 26,
   "metadata": {},
   "outputs": [
    {
     "data": {
      "text/plain": [
       "[5513054,\n",
       " 5513055,\n",
       " 5513056,\n",
       " 5513057,\n",
       " 5513058,\n",
       " 5513059,\n",
       " 5513060,\n",
       " 5513061,\n",
       " 5513062,\n",
       " 5513063,\n",
       " 5513064,\n",
       " 5513065,\n",
       " 5513066,\n",
       " 5513067,\n",
       " 5513068,\n",
       " 5513069,\n",
       " 5513070,\n",
       " 5513071,\n",
       " 5513072,\n",
       " 5513073,\n",
       " 5513074,\n",
       " 5513075,\n",
       " 5513076,\n",
       " 5513077,\n",
       " 5513078]"
      ]
     },
     "execution_count": 26,
     "metadata": {},
     "output_type": "execute_result"
    }
   ],
   "source": [
    "job_ids = param_search.submit(job_files)\n",
    "job_ids"
   ]
  },
  {
   "cell_type": "markdown",
   "metadata": {},
   "source": [
    "## 5) Monitor the status of queued and running jobs\n",
    "The `status` function checks the current status of a list of jobs in a Slurm or Torque computing cluster."
   ]
  },
  {
   "cell_type": "code",
   "execution_count": 27,
   "metadata": {},
   "outputs": [
    {
     "data": {
      "text/html": [
       "<div>\n",
       "<style scoped>\n",
       "    .dataframe tbody tr th:only-of-type {\n",
       "        vertical-align: middle;\n",
       "    }\n",
       "\n",
       "    .dataframe tbody tr th {\n",
       "        vertical-align: top;\n",
       "    }\n",
       "\n",
       "    .dataframe thead th {\n",
       "        text-align: right;\n",
       "    }\n",
       "</style>\n",
       "<table border=\"1\" class=\"dataframe\">\n",
       "  <thead>\n",
       "    <tr style=\"text-align: right;\">\n",
       "      <th></th>\n",
       "      <th>job_id</th>\n",
       "      <th>queue</th>\n",
       "      <th>job_name</th>\n",
       "      <th>user</th>\n",
       "      <th>job_state</th>\n",
       "      <th>runtime</th>\n",
       "      <th>walltime</th>\n",
       "      <th>node_id</th>\n",
       "      <th>work_dir</th>\n",
       "    </tr>\n",
       "  </thead>\n",
       "  <tbody>\n",
       "  </tbody>\n",
       "</table>\n",
       "</div>"
      ],
      "text/plain": [
       "Empty DataFrame\n",
       "Columns: [job_id, queue, job_name, user, job_state, runtime, walltime, node_id, work_dir]\n",
       "Index: []"
      ]
     },
     "execution_count": 27,
     "metadata": {},
     "output_type": "execute_result"
    }
   ],
   "source": [
    "param_search.status(job=','.join(map(str, job_ids)))"
   ]
  },
  {
   "cell_type": "markdown",
   "metadata": {},
   "source": [
    "## 6) Check completed jobs for errors\n",
    "The `errors` function reads stderr files for the most recent submission of a list of job scripts and parses them for error messages."
   ]
  },
  {
   "cell_type": "code",
   "execution_count": 28,
   "metadata": {
    "scrolled": false
   },
   "outputs": [
    {
     "data": {
      "text/plain": [
       "[None,\n",
       " None,\n",
       " None,\n",
       " None,\n",
       " None,\n",
       " None,\n",
       " None,\n",
       " None,\n",
       " None,\n",
       " None,\n",
       " None,\n",
       " None,\n",
       " None,\n",
       " None,\n",
       " None,\n",
       " None,\n",
       " None,\n",
       " None,\n",
       " None,\n",
       " None,\n",
       " None,\n",
       " None,\n",
       " None,\n",
       " None,\n",
       " None]"
      ]
     },
     "execution_count": 28,
     "metadata": {},
     "output_type": "execute_result"
    }
   ],
   "source": [
    "errors = param_search.errors(job_files)\n",
    "errors"
   ]
  },
  {
   "cell_type": "markdown",
   "metadata": {},
   "source": [
    "## 7) Aggregate output metrics of completed jobs\n",
    "The `metrics` function reads csv-style output files for a list of job scripts, concatenates them, and indexes them with the job parameters."
   ]
  },
  {
   "cell_type": "code",
   "execution_count": 29,
   "metadata": {},
   "outputs": [
    {
     "data": {
      "text/html": [
       "<div>\n",
       "<style scoped>\n",
       "    .dataframe tbody tr th:only-of-type {\n",
       "        vertical-align: middle;\n",
       "    }\n",
       "\n",
       "    .dataframe tbody tr th {\n",
       "        vertical-align: top;\n",
       "    }\n",
       "\n",
       "    .dataframe thead th {\n",
       "        text-align: right;\n",
       "    }\n",
       "</style>\n",
       "<table border=\"1\" class=\"dataframe\">\n",
       "  <thead>\n",
       "    <tr style=\"text-align: right;\">\n",
       "      <th></th>\n",
       "      <th></th>\n",
       "      <th></th>\n",
       "      <th>product</th>\n",
       "      <th>quotient</th>\n",
       "    </tr>\n",
       "    <tr>\n",
       "      <th>term1</th>\n",
       "      <th>term2</th>\n",
       "      <th>job_name</th>\n",
       "      <th></th>\n",
       "      <th></th>\n",
       "    </tr>\n",
       "  </thead>\n",
       "  <tbody>\n",
       "    <tr>\n",
       "      <th rowspan=\"5\" valign=\"top\">1</th>\n",
       "      <th>1</th>\n",
       "      <th>my_job_1_1</th>\n",
       "      <td>1</td>\n",
       "      <td>1.000000</td>\n",
       "    </tr>\n",
       "    <tr>\n",
       "      <th>2</th>\n",
       "      <th>my_job_1_2</th>\n",
       "      <td>2</td>\n",
       "      <td>0.500000</td>\n",
       "    </tr>\n",
       "    <tr>\n",
       "      <th>3</th>\n",
       "      <th>my_job_1_3</th>\n",
       "      <td>3</td>\n",
       "      <td>0.333333</td>\n",
       "    </tr>\n",
       "    <tr>\n",
       "      <th>4</th>\n",
       "      <th>my_job_1_4</th>\n",
       "      <td>4</td>\n",
       "      <td>0.250000</td>\n",
       "    </tr>\n",
       "    <tr>\n",
       "      <th>5</th>\n",
       "      <th>my_job_1_5</th>\n",
       "      <td>5</td>\n",
       "      <td>0.200000</td>\n",
       "    </tr>\n",
       "    <tr>\n",
       "      <th rowspan=\"5\" valign=\"top\">2</th>\n",
       "      <th>1</th>\n",
       "      <th>my_job_2_1</th>\n",
       "      <td>2</td>\n",
       "      <td>2.000000</td>\n",
       "    </tr>\n",
       "    <tr>\n",
       "      <th>2</th>\n",
       "      <th>my_job_2_2</th>\n",
       "      <td>4</td>\n",
       "      <td>1.000000</td>\n",
       "    </tr>\n",
       "    <tr>\n",
       "      <th>3</th>\n",
       "      <th>my_job_2_3</th>\n",
       "      <td>6</td>\n",
       "      <td>0.666667</td>\n",
       "    </tr>\n",
       "    <tr>\n",
       "      <th>4</th>\n",
       "      <th>my_job_2_4</th>\n",
       "      <td>8</td>\n",
       "      <td>0.500000</td>\n",
       "    </tr>\n",
       "    <tr>\n",
       "      <th>5</th>\n",
       "      <th>my_job_2_5</th>\n",
       "      <td>10</td>\n",
       "      <td>0.400000</td>\n",
       "    </tr>\n",
       "    <tr>\n",
       "      <th rowspan=\"5\" valign=\"top\">3</th>\n",
       "      <th>1</th>\n",
       "      <th>my_job_3_1</th>\n",
       "      <td>3</td>\n",
       "      <td>3.000000</td>\n",
       "    </tr>\n",
       "    <tr>\n",
       "      <th>2</th>\n",
       "      <th>my_job_3_2</th>\n",
       "      <td>6</td>\n",
       "      <td>1.500000</td>\n",
       "    </tr>\n",
       "    <tr>\n",
       "      <th>3</th>\n",
       "      <th>my_job_3_3</th>\n",
       "      <td>9</td>\n",
       "      <td>1.000000</td>\n",
       "    </tr>\n",
       "    <tr>\n",
       "      <th>4</th>\n",
       "      <th>my_job_3_4</th>\n",
       "      <td>12</td>\n",
       "      <td>0.750000</td>\n",
       "    </tr>\n",
       "    <tr>\n",
       "      <th>5</th>\n",
       "      <th>my_job_3_5</th>\n",
       "      <td>15</td>\n",
       "      <td>0.600000</td>\n",
       "    </tr>\n",
       "    <tr>\n",
       "      <th rowspan=\"5\" valign=\"top\">4</th>\n",
       "      <th>1</th>\n",
       "      <th>my_job_4_1</th>\n",
       "      <td>4</td>\n",
       "      <td>4.000000</td>\n",
       "    </tr>\n",
       "    <tr>\n",
       "      <th>2</th>\n",
       "      <th>my_job_4_2</th>\n",
       "      <td>8</td>\n",
       "      <td>2.000000</td>\n",
       "    </tr>\n",
       "    <tr>\n",
       "      <th>3</th>\n",
       "      <th>my_job_4_3</th>\n",
       "      <td>12</td>\n",
       "      <td>1.333333</td>\n",
       "    </tr>\n",
       "    <tr>\n",
       "      <th>4</th>\n",
       "      <th>my_job_4_4</th>\n",
       "      <td>16</td>\n",
       "      <td>1.000000</td>\n",
       "    </tr>\n",
       "    <tr>\n",
       "      <th>5</th>\n",
       "      <th>my_job_4_5</th>\n",
       "      <td>20</td>\n",
       "      <td>0.800000</td>\n",
       "    </tr>\n",
       "    <tr>\n",
       "      <th rowspan=\"5\" valign=\"top\">5</th>\n",
       "      <th>1</th>\n",
       "      <th>my_job_5_1</th>\n",
       "      <td>5</td>\n",
       "      <td>5.000000</td>\n",
       "    </tr>\n",
       "    <tr>\n",
       "      <th>2</th>\n",
       "      <th>my_job_5_2</th>\n",
       "      <td>10</td>\n",
       "      <td>2.500000</td>\n",
       "    </tr>\n",
       "    <tr>\n",
       "      <th>3</th>\n",
       "      <th>my_job_5_3</th>\n",
       "      <td>15</td>\n",
       "      <td>1.666667</td>\n",
       "    </tr>\n",
       "    <tr>\n",
       "      <th>4</th>\n",
       "      <th>my_job_5_4</th>\n",
       "      <td>20</td>\n",
       "      <td>1.250000</td>\n",
       "    </tr>\n",
       "    <tr>\n",
       "      <th>5</th>\n",
       "      <th>my_job_5_5</th>\n",
       "      <td>25</td>\n",
       "      <td>1.000000</td>\n",
       "    </tr>\n",
       "  </tbody>\n",
       "</table>\n",
       "</div>"
      ],
      "text/plain": [
       "                        product  quotient\n",
       "term1 term2 job_name                     \n",
       "1     1     my_job_1_1        1  1.000000\n",
       "      2     my_job_1_2        2  0.500000\n",
       "      3     my_job_1_3        3  0.333333\n",
       "      4     my_job_1_4        4  0.250000\n",
       "      5     my_job_1_5        5  0.200000\n",
       "2     1     my_job_2_1        2  2.000000\n",
       "      2     my_job_2_2        4  1.000000\n",
       "      3     my_job_2_3        6  0.666667\n",
       "      4     my_job_2_4        8  0.500000\n",
       "      5     my_job_2_5       10  0.400000\n",
       "3     1     my_job_3_1        3  3.000000\n",
       "      2     my_job_3_2        6  1.500000\n",
       "      3     my_job_3_3        9  1.000000\n",
       "      4     my_job_3_4       12  0.750000\n",
       "      5     my_job_3_5       15  0.600000\n",
       "4     1     my_job_4_1        4  4.000000\n",
       "      2     my_job_4_2        8  2.000000\n",
       "      3     my_job_4_3       12  1.333333\n",
       "      4     my_job_4_4       16  1.000000\n",
       "      5     my_job_4_5       20  0.800000\n",
       "5     1     my_job_5_1        5  5.000000\n",
       "      2     my_job_5_2       10  2.500000\n",
       "      3     my_job_5_3       15  1.666667\n",
       "      4     my_job_5_4       20  1.250000\n",
       "      5     my_job_5_5       25  1.000000"
      ]
     },
     "execution_count": 29,
     "metadata": {},
     "output_type": "execute_result"
    }
   ],
   "source": [
    "metrics = param_search.metrics(job_files)\n",
    "metrics"
   ]
  },
  {
   "cell_type": "markdown",
   "metadata": {},
   "source": [
    "## 8) Plot metrics with respect to parameters\n",
    "The `plot` function allows you to visualize the effects of parameters on job output metrics. It plots each metric against each parameter on separate axes, grouping by all of the other parameters. This default behavior can be altered by specifying different values for the `x`, `y`, and `hue` arguments."
   ]
  },
  {
   "cell_type": "code",
   "execution_count": 32,
   "metadata": {
    "scrolled": false
   },
   "outputs": [
    {
     "data": {
      "image/png": "[encoded data removed]",
      "text/plain": [
       "<Figure size 432x432 with 4 Axes>"
      ]
     },
     "metadata": {
      "needs_background": "light"
     },
     "output_type": "display_data"
    }
   ],
   "source": [
    "fig = param_search.plot(metrics)"
   ]
  }
 ],
 "metadata": {
  "kernelspec": {
   "display_name": "Python 3",
   "language": "python",
   "name": "python3"
  },
  "language_info": {
   "codemirror_mode": {
    "name": "ipython",
    "version": 3
   },
   "file_extension": ".py",
   "mimetype": "text/x-python",
   "name": "python",
   "nbconvert_exporter": "python",
   "pygments_lexer": "ipython3",
   "version": "3.6.9"
  }
 },
 "nbformat": 4,
 "nbformat_minor": 4
}
