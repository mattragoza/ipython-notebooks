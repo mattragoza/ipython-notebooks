{
 "cells": [
  {
   "cell_type": "markdown",
   "metadata": {},
   "source": [
    "# Running experiments on a cluster with `param_search`\n",
    "\n",
    "This Python package makes it easy to launch lots of jobs with different parameters to a computing cluster. It also has features to monitor the status of running or completed jobs, aggregate their output, and create some basic visualizations."
   ]
  },
  {
   "cell_type": "code",
   "execution_count": 1,
   "metadata": {},
   "outputs": [
    {
     "data": {
      "text/plain": [
       "'/net/pulsar/home/koes/mtr22/ipython-notebooks'"
      ]
     },
     "execution_count": 1,
     "metadata": {},
     "output_type": "execute_result"
    }
   ],
   "source": [
    "%matplotlib inline\n",
    "%load_ext autoreload\n",
    "%autoreload 2\n",
    "import sys, os\n",
    "sys.path.append(os.environ['LIGAN_ROOT'])\n",
    "import param_search\n",
    "os.getcwd()"
   ]
  },
  {
   "cell_type": "markdown",
   "metadata": {},
   "source": [
    "## 1) Create a template job script\n",
    "This is the script that you want to evaluate using ranges of different parameters. The parameters are specified as Python string formatting fields, i.e. using curly braces. There are also two optional built-in fields, `job_name` and `job_params`. The `job_name` field will be filled in with a parameterized job name, and the `job_params` field will be replaced by a comment block that displays what parameters were used to create each script."
   ]
  },
  {
   "cell_type": "code",
   "execution_count": 2,
   "metadata": {},
   "outputs": [],
   "source": [
    "template_file = 'my_job.sh'\n",
    "template = '''\\\n",
    "#!/bin/bash\n",
    "#SBATCH --job-name={job_name}\n",
    "#SBATCH -o %J.stdout\n",
    "#SBATCH -e %J.stderr\n",
    "{job_params}\n",
    "product=$(({term1}*{term2}))\n",
    "echo \"product\\n$product\" > $SLURM_JOB_ID.output\n",
    "'''\n",
    "with open(template_file, 'w') as f:\n",
    "    f.write(template)"
   ]
  },
  {
   "cell_type": "markdown",
   "metadata": {},
   "source": [
    "## 2) Define the parameter search space\n",
    "\n",
    "Use the `ParamSpace` object to define the ranges of values for the parameters you want to explore. It is a subclass of `OrderedDict` that expects each key to be assigned as either a single value or iterable of values (strings are considered single values). Then, iterating over the `ParamSpace` produces parameter assignments from the Cartesian product over the defined parameter ranges."
   ]
  },
  {
   "cell_type": "code",
   "execution_count": 3,
   "metadata": {},
   "outputs": [
    {
     "data": {
      "text/plain": [
       "[Params([('term1', 0), ('term2', 0)]),\n",
       " Params([('term1', 0), ('term2', 1)]),\n",
       " Params([('term1', 0), ('term2', 2)]),\n",
       " Params([('term1', 0), ('term2', 3)]),\n",
       " Params([('term1', 1), ('term2', 0)]),\n",
       " Params([('term1', 1), ('term2', 1)]),\n",
       " Params([('term1', 1), ('term2', 2)]),\n",
       " Params([('term1', 1), ('term2', 3)]),\n",
       " Params([('term1', 2), ('term2', 0)]),\n",
       " Params([('term1', 2), ('term2', 1)]),\n",
       " Params([('term1', 2), ('term2', 2)]),\n",
       " Params([('term1', 2), ('term2', 3)]),\n",
       " Params([('term1', 3), ('term2', 0)]),\n",
       " Params([('term1', 3), ('term2', 1)]),\n",
       " Params([('term1', 3), ('term2', 2)]),\n",
       " Params([('term1', 3), ('term2', 3)])]"
      ]
     },
     "execution_count": 3,
     "metadata": {},
     "output_type": "execute_result"
    }
   ],
   "source": [
    "param_space = param_search.ParamSpace(\n",
    "    term1=range(4),\n",
    "    term2=range(4),\n",
    ")\n",
    "list(param_space)"
   ]
  },
  {
   "cell_type": "markdown",
   "metadata": {},
   "source": [
    "## 3) Setup parameterized job scripts\n",
    "The `setup` function fills in the parameter fields in the template script with each parameter assignment in the parameter space, then writes out each of these parameterized job scripts to a separate subdirectory. The subdirectories are named according to a Python formatting string `name_format`, which is also used to fill in the `job_name` field in the template script."
   ]
  },
  {
   "cell_type": "code",
   "execution_count": 4,
   "metadata": {},
   "outputs": [
    {
     "data": {
      "text/plain": [
       "['my_experiment/multiply_0_0/my_job.sh',\n",
       " 'my_experiment/multiply_0_1/my_job.sh',\n",
       " 'my_experiment/multiply_0_2/my_job.sh',\n",
       " 'my_experiment/multiply_0_3/my_job.sh',\n",
       " 'my_experiment/multiply_1_0/my_job.sh',\n",
       " 'my_experiment/multiply_1_1/my_job.sh',\n",
       " 'my_experiment/multiply_1_2/my_job.sh',\n",
       " 'my_experiment/multiply_1_3/my_job.sh',\n",
       " 'my_experiment/multiply_2_0/my_job.sh',\n",
       " 'my_experiment/multiply_2_1/my_job.sh',\n",
       " 'my_experiment/multiply_2_2/my_job.sh',\n",
       " 'my_experiment/multiply_2_3/my_job.sh',\n",
       " 'my_experiment/multiply_3_0/my_job.sh',\n",
       " 'my_experiment/multiply_3_1/my_job.sh',\n",
       " 'my_experiment/multiply_3_2/my_job.sh',\n",
       " 'my_experiment/multiply_3_3/my_job.sh']"
      ]
     },
     "execution_count": 4,
     "metadata": {},
     "output_type": "execute_result"
    }
   ],
   "source": [
    "job_files = param_search.setup(\n",
    "    expt_dir='my_experiment',\n",
    "    name_format='multiply_{term1}_{term2}',\n",
    "    template_file=template_file,\n",
    "    param_space=param_space\n",
    ")\n",
    "job_files"
   ]
  },
  {
   "cell_type": "markdown",
   "metadata": {},
   "source": [
    "## 4) Submit job scripts to cluster\n",
    "The `submit` function submits a list of job scripts to a computing cluster with Slurm or Torque. It returns the job IDs associated with each submitted job."
   ]
  },
  {
   "cell_type": "code",
   "execution_count": 5,
   "metadata": {},
   "outputs": [
    {
     "data": {
      "text/plain": [
       "[5511252,\n",
       " 5511253,\n",
       " 5511254,\n",
       " 5511255,\n",
       " 5511256,\n",
       " 5511257,\n",
       " 5511258,\n",
       " 5511259,\n",
       " 5511260,\n",
       " 5511261,\n",
       " 5511262,\n",
       " 5511263,\n",
       " 5511264,\n",
       " 5511265,\n",
       " 5511266,\n",
       " 5511267]"
      ]
     },
     "execution_count": 5,
     "metadata": {},
     "output_type": "execute_result"
    }
   ],
   "source": [
    "job_ids = param_search.submit(job_files)\n",
    "job_ids"
   ]
  },
  {
   "cell_type": "markdown",
   "metadata": {},
   "source": [
    "## 5) Monitor status of queued jobs\n",
    "The `status` function checks the current status of a list of jobs in a Slurm or Torque computing cluster."
   ]
  },
  {
   "cell_type": "code",
   "execution_count": 6,
   "metadata": {},
   "outputs": [
    {
     "data": {
      "text/html": [
       "<div>\n",
       "<style scoped>\n",
       "    .dataframe tbody tr th:only-of-type {\n",
       "        vertical-align: middle;\n",
       "    }\n",
       "\n",
       "    .dataframe tbody tr th {\n",
       "        vertical-align: top;\n",
       "    }\n",
       "\n",
       "    .dataframe thead th {\n",
       "        text-align: right;\n",
       "    }\n",
       "</style>\n",
       "<table border=\"1\" class=\"dataframe\">\n",
       "  <thead>\n",
       "    <tr style=\"text-align: right;\">\n",
       "      <th></th>\n",
       "      <th>job_id</th>\n",
       "      <th>queue</th>\n",
       "      <th>job_name</th>\n",
       "      <th>user</th>\n",
       "      <th>job_state</th>\n",
       "      <th>runtime</th>\n",
       "      <th>walltime</th>\n",
       "      <th>node_id</th>\n",
       "      <th>work_dir</th>\n",
       "    </tr>\n",
       "  </thead>\n",
       "  <tbody>\n",
       "  </tbody>\n",
       "</table>\n",
       "</div>"
      ],
      "text/plain": [
       "Empty DataFrame\n",
       "Columns: [job_id, queue, job_name, user, job_state, runtime, walltime, node_id, work_dir]\n",
       "Index: []"
      ]
     },
     "execution_count": 6,
     "metadata": {},
     "output_type": "execute_result"
    }
   ],
   "source": [
    "param_search.status(job=','.join(map(str, job_ids)))"
   ]
  },
  {
   "cell_type": "markdown",
   "metadata": {},
   "source": [
    "## 6) Check completed jobs for errors\n",
    "The `errors` function reads stderr files for the most recent submission of a list of job scripts and parses them for error messages."
   ]
  },
  {
   "cell_type": "code",
   "execution_count": 7,
   "metadata": {},
   "outputs": [
    {
     "data": {
      "text/plain": [
       "[None,\n",
       " None,\n",
       " None,\n",
       " None,\n",
       " None,\n",
       " None,\n",
       " None,\n",
       " None,\n",
       " None,\n",
       " None,\n",
       " None,\n",
       " None,\n",
       " None,\n",
       " None,\n",
       " None,\n",
       " None]"
      ]
     },
     "execution_count": 7,
     "metadata": {},
     "output_type": "execute_result"
    }
   ],
   "source": [
    "errors = param_search.errors(job_files)\n",
    "errors"
   ]
  },
  {
   "cell_type": "markdown",
   "metadata": {},
   "source": [
    "## 7) Aggregate completed job output\n",
    "The `output` function reads csv-style output files for a list of job scripts, concatenates them, and indexes them with the job parameters."
   ]
  },
  {
   "cell_type": "code",
   "execution_count": 8,
   "metadata": {},
   "outputs": [
    {
     "data": {
      "text/html": [
       "<div>\n",
       "<style scoped>\n",
       "    .dataframe tbody tr th:only-of-type {\n",
       "        vertical-align: middle;\n",
       "    }\n",
       "\n",
       "    .dataframe tbody tr th {\n",
       "        vertical-align: top;\n",
       "    }\n",
       "\n",
       "    .dataframe thead th {\n",
       "        text-align: right;\n",
       "    }\n",
       "</style>\n",
       "<table border=\"1\" class=\"dataframe\">\n",
       "  <thead>\n",
       "    <tr style=\"text-align: right;\">\n",
       "      <th></th>\n",
       "      <th></th>\n",
       "      <th></th>\n",
       "      <th>product</th>\n",
       "    </tr>\n",
       "    <tr>\n",
       "      <th>term1</th>\n",
       "      <th>term2</th>\n",
       "      <th>job_name</th>\n",
       "      <th></th>\n",
       "    </tr>\n",
       "  </thead>\n",
       "  <tbody>\n",
       "    <tr>\n",
       "      <th rowspan=\"4\" valign=\"top\">0</th>\n",
       "      <th>0</th>\n",
       "      <th>multiply_0_0</th>\n",
       "      <td>0</td>\n",
       "    </tr>\n",
       "    <tr>\n",
       "      <th>1</th>\n",
       "      <th>multiply_0_1</th>\n",
       "      <td>0</td>\n",
       "    </tr>\n",
       "    <tr>\n",
       "      <th>2</th>\n",
       "      <th>multiply_0_2</th>\n",
       "      <td>0</td>\n",
       "    </tr>\n",
       "    <tr>\n",
       "      <th>3</th>\n",
       "      <th>multiply_0_3</th>\n",
       "      <td>0</td>\n",
       "    </tr>\n",
       "    <tr>\n",
       "      <th rowspan=\"4\" valign=\"top\">1</th>\n",
       "      <th>0</th>\n",
       "      <th>multiply_1_0</th>\n",
       "      <td>0</td>\n",
       "    </tr>\n",
       "    <tr>\n",
       "      <th>1</th>\n",
       "      <th>multiply_1_1</th>\n",
       "      <td>1</td>\n",
       "    </tr>\n",
       "    <tr>\n",
       "      <th>2</th>\n",
       "      <th>multiply_1_2</th>\n",
       "      <td>2</td>\n",
       "    </tr>\n",
       "    <tr>\n",
       "      <th>3</th>\n",
       "      <th>multiply_1_3</th>\n",
       "      <td>3</td>\n",
       "    </tr>\n",
       "    <tr>\n",
       "      <th rowspan=\"4\" valign=\"top\">2</th>\n",
       "      <th>0</th>\n",
       "      <th>multiply_2_0</th>\n",
       "      <td>0</td>\n",
       "    </tr>\n",
       "    <tr>\n",
       "      <th>1</th>\n",
       "      <th>multiply_2_1</th>\n",
       "      <td>2</td>\n",
       "    </tr>\n",
       "    <tr>\n",
       "      <th>2</th>\n",
       "      <th>multiply_2_2</th>\n",
       "      <td>4</td>\n",
       "    </tr>\n",
       "    <tr>\n",
       "      <th>3</th>\n",
       "      <th>multiply_2_3</th>\n",
       "      <td>6</td>\n",
       "    </tr>\n",
       "    <tr>\n",
       "      <th rowspan=\"4\" valign=\"top\">3</th>\n",
       "      <th>0</th>\n",
       "      <th>multiply_3_0</th>\n",
       "      <td>0</td>\n",
       "    </tr>\n",
       "    <tr>\n",
       "      <th>1</th>\n",
       "      <th>multiply_3_1</th>\n",
       "      <td>3</td>\n",
       "    </tr>\n",
       "    <tr>\n",
       "      <th>2</th>\n",
       "      <th>multiply_3_2</th>\n",
       "      <td>6</td>\n",
       "    </tr>\n",
       "    <tr>\n",
       "      <th>3</th>\n",
       "      <th>multiply_3_3</th>\n",
       "      <td>9</td>\n",
       "    </tr>\n",
       "  </tbody>\n",
       "</table>\n",
       "</div>"
      ],
      "text/plain": [
       "                          product\n",
       "term1 term2 job_name             \n",
       "0     0     multiply_0_0        0\n",
       "      1     multiply_0_1        0\n",
       "      2     multiply_0_2        0\n",
       "      3     multiply_0_3        0\n",
       "1     0     multiply_1_0        0\n",
       "      1     multiply_1_1        1\n",
       "      2     multiply_1_2        2\n",
       "      3     multiply_1_3        3\n",
       "2     0     multiply_2_0        0\n",
       "      1     multiply_2_1        2\n",
       "      2     multiply_2_2        4\n",
       "      3     multiply_2_3        6\n",
       "3     0     multiply_3_0        0\n",
       "      1     multiply_3_1        3\n",
       "      2     multiply_3_2        6\n",
       "      3     multiply_3_3        9"
      ]
     },
     "execution_count": 8,
     "metadata": {},
     "output_type": "execute_result"
    }
   ],
   "source": [
    "output = param_search.output(job_files)\n",
    "output"
   ]
  },
  {
   "cell_type": "markdown",
   "metadata": {},
   "source": [
    "## 8) Plot output with respect to parameters\n",
    "The `plot` function allows you visualize the effect of parameters on job output metrics. It plots each `y` variable against each `x` variable on a separate axes, grouping by all of the other `x` variables. This grouping can be turned off by specifying a different value for the `hue` argument."
   ]
  },
  {
   "cell_type": "code",
   "execution_count": 9,
   "metadata": {},
   "outputs": [
    {
     "data": {
      "image/png": "[encoded data removed]",
      "text/plain": [
       "<Figure size 432x216 with 2 Axes>"
      ]
     },
     "metadata": {
      "needs_background": "light"
     },
     "output_type": "display_data"
    }
   ],
   "source": [
    "x = param_space.keys()\n",
    "y = output.columns\n",
    "fig = param_search.plot(output, x, y)"
   ]
  }
 ],
 "metadata": {
  "kernelspec": {
   "display_name": "Python 3",
   "language": "python",
   "name": "python3"
  },
  "language_info": {
   "codemirror_mode": {
    "name": "ipython",
    "version": 3
   },
   "file_extension": ".py",
   "mimetype": "text/x-python",
   "name": "python",
   "nbconvert_exporter": "python",
   "pygments_lexer": "ipython3",
   "version": "3.6.9"
  }
 },
 "nbformat": 4,
 "nbformat_minor": 4
}
