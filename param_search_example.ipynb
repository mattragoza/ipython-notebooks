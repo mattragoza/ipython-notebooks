{
 "cells": [
  {
   "cell_type": "markdown",
   "metadata": {},
   "source": [
    "# Running experiments on a cluster with `param_search`\n",
    "\n",
    "This Python package makes it easy to launch lots of jobs with different parameters to a computing cluster. It also has features to monitor the status of running or completed jobs, aggregate their output metrics, and create some basic visualizations."
   ]
  },
  {
   "cell_type": "code",
   "execution_count": 1,
   "metadata": {},
   "outputs": [
    {
     "data": {
      "text/plain": [
       "'/net/pulsar/home/koes/mtr22/ipython-notebooks'"
      ]
     },
     "execution_count": 1,
     "metadata": {},
     "output_type": "execute_result"
    }
   ],
   "source": [
    "%matplotlib inline\n",
    "%load_ext autoreload\n",
    "%autoreload 2\n",
    "import sys, os\n",
    "sys.path.append('../param_search')\n",
    "import param_search\n",
    "os.getcwd()"
   ]
  },
  {
   "cell_type": "markdown",
   "metadata": {},
   "source": [
    "## 1) Create a template job script\n",
    "This is the script that you want to evaluate using ranges of different parameters. The parameters are specified as Python string formatting fields, i.e. using curly braces. There are also two optional built-in fields, `job_name` and `job_params`. The `job_name` field will be filled in with a parameterized job name, and the `job_params` field will be replaced by a comment block that displays what parameters were used to create each script."
   ]
  },
  {
   "cell_type": "code",
   "execution_count": 2,
   "metadata": {},
   "outputs": [],
   "source": [
    "template_file = 'my_job.sh'\n",
    "template = '''\\\n",
    "#!/bin/bash\n",
    "#SBATCH --job-name={job_name}\n",
    "#SBATCH -o %J.stdout\n",
    "#SBATCH -e %J.stderr\n",
    "{job_params}\n",
    "product=$(python3 -c \"print({term1}*{term2})\")\n",
    "quotient=$(python3 -c \"print({term1}/{term2})\")\n",
    "echo \"product quotient\\n$product $quotient\" > $SLURM_JOB_ID.metrics\n",
    "'''\n",
    "with open(template_file, 'w') as f:\n",
    "    f.write(template)"
   ]
  },
  {
   "cell_type": "markdown",
   "metadata": {},
   "source": [
    "## 2) Define the parameter search space\n",
    "\n",
    "Use the `ParamSpace` object to define the ranges of values for the parameters you want to explore. It is a subclass of `OrderedDict` that expects each key to be assigned as either a single value or iterable of values (strings are considered single values). Then, iterating over the `ParamSpace` produces parameter assignments from the Cartesian product over the defined parameter ranges."
   ]
  },
  {
   "cell_type": "code",
   "execution_count": 3,
   "metadata": {},
   "outputs": [
    {
     "data": {
      "text/plain": [
       "[Params([('term1', 0), ('term2', 0)]),\n",
       " Params([('term1', 0), ('term2', 1)]),\n",
       " Params([('term1', 0), ('term2', 2)]),\n",
       " Params([('term1', 0), ('term2', 3)]),\n",
       " Params([('term1', 1), ('term2', 0)]),\n",
       " Params([('term1', 1), ('term2', 1)]),\n",
       " Params([('term1', 1), ('term2', 2)]),\n",
       " Params([('term1', 1), ('term2', 3)]),\n",
       " Params([('term1', 2), ('term2', 0)]),\n",
       " Params([('term1', 2), ('term2', 1)]),\n",
       " Params([('term1', 2), ('term2', 2)]),\n",
       " Params([('term1', 2), ('term2', 3)]),\n",
       " Params([('term1', 3), ('term2', 0)]),\n",
       " Params([('term1', 3), ('term2', 1)]),\n",
       " Params([('term1', 3), ('term2', 2)]),\n",
       " Params([('term1', 3), ('term2', 3)])]"
      ]
     },
     "execution_count": 3,
     "metadata": {},
     "output_type": "execute_result"
    }
   ],
   "source": [
    "param_space = param_search.ParamSpace(\n",
    "    term1=range(4),\n",
    "    term2=range(4),\n",
    ")\n",
    "list(param_space)"
   ]
  },
  {
   "cell_type": "markdown",
   "metadata": {},
   "source": [
    "## 3) Setup parameterized job scripts\n",
    "The `setup` function fills in the parameter fields in the template script with each parameter assignment in the parameter space, then writes out each of these parameterized job scripts to a separate subdirectory. The subdirectories are named according to a Python formatting string `name_format`, which is also used to fill in the `job_name` field in the template script."
   ]
  },
  {
   "cell_type": "code",
   "execution_count": 4,
   "metadata": {
    "scrolled": false
   },
   "outputs": [
    {
     "data": {
      "text/plain": [
       "['my_experiment/my_job_0_0/my_job.sh',\n",
       " 'my_experiment/my_job_0_1/my_job.sh',\n",
       " 'my_experiment/my_job_0_2/my_job.sh',\n",
       " 'my_experiment/my_job_0_3/my_job.sh',\n",
       " 'my_experiment/my_job_1_0/my_job.sh',\n",
       " 'my_experiment/my_job_1_1/my_job.sh',\n",
       " 'my_experiment/my_job_1_2/my_job.sh',\n",
       " 'my_experiment/my_job_1_3/my_job.sh',\n",
       " 'my_experiment/my_job_2_0/my_job.sh',\n",
       " 'my_experiment/my_job_2_1/my_job.sh',\n",
       " 'my_experiment/my_job_2_2/my_job.sh',\n",
       " 'my_experiment/my_job_2_3/my_job.sh',\n",
       " 'my_experiment/my_job_3_0/my_job.sh',\n",
       " 'my_experiment/my_job_3_1/my_job.sh',\n",
       " 'my_experiment/my_job_3_2/my_job.sh',\n",
       " 'my_experiment/my_job_3_3/my_job.sh']"
      ]
     },
     "execution_count": 4,
     "metadata": {},
     "output_type": "execute_result"
    }
   ],
   "source": [
    "job_files = param_search.setup(\n",
    "    expt_dir='my_experiment',\n",
    "    name_format='my_job_{term1}_{term2}',\n",
    "    template_file=template_file,\n",
    "    param_space=param_space\n",
    ")\n",
    "job_files"
   ]
  },
  {
   "cell_type": "markdown",
   "metadata": {},
   "source": [
    "## 4) Submit job scripts to the cluster\n",
    "The `submit` function submits a list of job scripts to a computing cluster with Slurm or Torque. It returns the job IDs associated with each submitted job."
   ]
  },
  {
   "cell_type": "code",
   "execution_count": 5,
   "metadata": {},
   "outputs": [
    {
     "data": {
      "text/plain": [
       "[7629409,\n",
       " 7629410,\n",
       " 7629411,\n",
       " 7629412,\n",
       " 7629413,\n",
       " 7629414,\n",
       " 7629415,\n",
       " 7629416,\n",
       " 7629417,\n",
       " 7629418,\n",
       " 7629419,\n",
       " 7629420,\n",
       " 7629421,\n",
       " 7629422,\n",
       " 7629423,\n",
       " 7629424]"
      ]
     },
     "execution_count": 5,
     "metadata": {},
     "output_type": "execute_result"
    }
   ],
   "source": [
    "job_ids = param_search.submit(job_files)\n",
    "job_ids"
   ]
  },
  {
   "cell_type": "markdown",
   "metadata": {},
   "source": [
    "## 5) Monitor the status of queued and running jobs\n",
    "The `status` function checks the current status of a list of jobs in a Slurm or Torque computing cluster."
   ]
  },
  {
   "cell_type": "code",
   "execution_count": 6,
   "metadata": {},
   "outputs": [
    {
     "data": {
      "text/html": [
       "<div>\n",
       "<style scoped>\n",
       "    .dataframe tbody tr th:only-of-type {\n",
       "        vertical-align: middle;\n",
       "    }\n",
       "\n",
       "    .dataframe tbody tr th {\n",
       "        vertical-align: top;\n",
       "    }\n",
       "\n",
       "    .dataframe thead th {\n",
       "        text-align: right;\n",
       "    }\n",
       "</style>\n",
       "<table border=\"1\" class=\"dataframe\">\n",
       "  <thead>\n",
       "    <tr style=\"text-align: right;\">\n",
       "      <th></th>\n",
       "      <th>job_id</th>\n",
       "      <th>queue</th>\n",
       "      <th>job_name</th>\n",
       "      <th>user</th>\n",
       "      <th>job_state</th>\n",
       "      <th>runtime</th>\n",
       "      <th>walltime</th>\n",
       "      <th>node_id</th>\n",
       "      <th>work_dir</th>\n",
       "      <th>array_idx</th>\n",
       "    </tr>\n",
       "  </thead>\n",
       "  <tbody>\n",
       "    <tr>\n",
       "      <th>0</th>\n",
       "      <td>7629411</td>\n",
       "      <td>any_cpu</td>\n",
       "      <td>my_job_0_2</td>\n",
       "      <td>mtr22</td>\n",
       "      <td>CG</td>\n",
       "      <td>0:00</td>\n",
       "      <td>28-00:00:00</td>\n",
       "      <td>n029</td>\n",
       "      <td>/net/pulsar/home/koes/mtr22/ipython-notebooks/...</td>\n",
       "      <td>NaN</td>\n",
       "    </tr>\n",
       "    <tr>\n",
       "      <th>1</th>\n",
       "      <td>7629412</td>\n",
       "      <td>any_cpu</td>\n",
       "      <td>my_job_0_3</td>\n",
       "      <td>mtr22</td>\n",
       "      <td>CG</td>\n",
       "      <td>0:00</td>\n",
       "      <td>28-00:00:00</td>\n",
       "      <td>n029</td>\n",
       "      <td>/net/pulsar/home/koes/mtr22/ipython-notebooks/...</td>\n",
       "      <td>NaN</td>\n",
       "    </tr>\n",
       "    <tr>\n",
       "      <th>2</th>\n",
       "      <td>7629413</td>\n",
       "      <td>any_cpu</td>\n",
       "      <td>my_job_1_0</td>\n",
       "      <td>mtr22</td>\n",
       "      <td>CG</td>\n",
       "      <td>0:00</td>\n",
       "      <td>28-00:00:00</td>\n",
       "      <td>n029</td>\n",
       "      <td>/net/pulsar/home/koes/mtr22/ipython-notebooks/...</td>\n",
       "      <td>NaN</td>\n",
       "    </tr>\n",
       "    <tr>\n",
       "      <th>3</th>\n",
       "      <td>7629423</td>\n",
       "      <td>any_cpu</td>\n",
       "      <td>my_job_3_2</td>\n",
       "      <td>mtr22</td>\n",
       "      <td>PD</td>\n",
       "      <td>0:00</td>\n",
       "      <td>28-00:00:00</td>\n",
       "      <td>(None)</td>\n",
       "      <td>/net/pulsar/home/koes/mtr22/ipython-notebooks/...</td>\n",
       "      <td>NaN</td>\n",
       "    </tr>\n",
       "    <tr>\n",
       "      <th>4</th>\n",
       "      <td>7629424</td>\n",
       "      <td>any_cpu</td>\n",
       "      <td>my_job_3_3</td>\n",
       "      <td>mtr22</td>\n",
       "      <td>PD</td>\n",
       "      <td>0:00</td>\n",
       "      <td>28-00:00:00</td>\n",
       "      <td>(Priority)</td>\n",
       "      <td>/net/pulsar/home/koes/mtr22/ipython-notebooks/...</td>\n",
       "      <td>NaN</td>\n",
       "    </tr>\n",
       "    <tr>\n",
       "      <th>5</th>\n",
       "      <td>7629409</td>\n",
       "      <td>any_cpu</td>\n",
       "      <td>my_job_0_0</td>\n",
       "      <td>mtr22</td>\n",
       "      <td>R</td>\n",
       "      <td>0:00</td>\n",
       "      <td>28-00:00:00</td>\n",
       "      <td>n029</td>\n",
       "      <td>/net/pulsar/home/koes/mtr22/ipython-notebooks/...</td>\n",
       "      <td>NaN</td>\n",
       "    </tr>\n",
       "    <tr>\n",
       "      <th>6</th>\n",
       "      <td>7629410</td>\n",
       "      <td>any_cpu</td>\n",
       "      <td>my_job_0_1</td>\n",
       "      <td>mtr22</td>\n",
       "      <td>R</td>\n",
       "      <td>0:00</td>\n",
       "      <td>28-00:00:00</td>\n",
       "      <td>n029</td>\n",
       "      <td>/net/pulsar/home/koes/mtr22/ipython-notebooks/...</td>\n",
       "      <td>NaN</td>\n",
       "    </tr>\n",
       "    <tr>\n",
       "      <th>7</th>\n",
       "      <td>7629414</td>\n",
       "      <td>any_cpu</td>\n",
       "      <td>my_job_1_1</td>\n",
       "      <td>mtr22</td>\n",
       "      <td>R</td>\n",
       "      <td>0:00</td>\n",
       "      <td>28-00:00:00</td>\n",
       "      <td>n029</td>\n",
       "      <td>/net/pulsar/home/koes/mtr22/ipython-notebooks/...</td>\n",
       "      <td>NaN</td>\n",
       "    </tr>\n",
       "    <tr>\n",
       "      <th>8</th>\n",
       "      <td>7629415</td>\n",
       "      <td>any_cpu</td>\n",
       "      <td>my_job_1_2</td>\n",
       "      <td>mtr22</td>\n",
       "      <td>R</td>\n",
       "      <td>0:00</td>\n",
       "      <td>28-00:00:00</td>\n",
       "      <td>n029</td>\n",
       "      <td>/net/pulsar/home/koes/mtr22/ipython-notebooks/...</td>\n",
       "      <td>NaN</td>\n",
       "    </tr>\n",
       "    <tr>\n",
       "      <th>9</th>\n",
       "      <td>7629416</td>\n",
       "      <td>any_cpu</td>\n",
       "      <td>my_job_1_3</td>\n",
       "      <td>mtr22</td>\n",
       "      <td>R</td>\n",
       "      <td>0:00</td>\n",
       "      <td>28-00:00:00</td>\n",
       "      <td>n029</td>\n",
       "      <td>/net/pulsar/home/koes/mtr22/ipython-notebooks/...</td>\n",
       "      <td>NaN</td>\n",
       "    </tr>\n",
       "    <tr>\n",
       "      <th>10</th>\n",
       "      <td>7629417</td>\n",
       "      <td>any_cpu</td>\n",
       "      <td>my_job_2_0</td>\n",
       "      <td>mtr22</td>\n",
       "      <td>R</td>\n",
       "      <td>0:00</td>\n",
       "      <td>28-00:00:00</td>\n",
       "      <td>n029</td>\n",
       "      <td>/net/pulsar/home/koes/mtr22/ipython-notebooks/...</td>\n",
       "      <td>NaN</td>\n",
       "    </tr>\n",
       "    <tr>\n",
       "      <th>11</th>\n",
       "      <td>7629418</td>\n",
       "      <td>any_cpu</td>\n",
       "      <td>my_job_2_1</td>\n",
       "      <td>mtr22</td>\n",
       "      <td>R</td>\n",
       "      <td>0:00</td>\n",
       "      <td>28-00:00:00</td>\n",
       "      <td>n029</td>\n",
       "      <td>/net/pulsar/home/koes/mtr22/ipython-notebooks/...</td>\n",
       "      <td>NaN</td>\n",
       "    </tr>\n",
       "    <tr>\n",
       "      <th>12</th>\n",
       "      <td>7629419</td>\n",
       "      <td>any_cpu</td>\n",
       "      <td>my_job_2_2</td>\n",
       "      <td>mtr22</td>\n",
       "      <td>R</td>\n",
       "      <td>0:00</td>\n",
       "      <td>28-00:00:00</td>\n",
       "      <td>n029</td>\n",
       "      <td>/net/pulsar/home/koes/mtr22/ipython-notebooks/...</td>\n",
       "      <td>NaN</td>\n",
       "    </tr>\n",
       "    <tr>\n",
       "      <th>13</th>\n",
       "      <td>7629420</td>\n",
       "      <td>any_cpu</td>\n",
       "      <td>my_job_2_3</td>\n",
       "      <td>mtr22</td>\n",
       "      <td>R</td>\n",
       "      <td>0:00</td>\n",
       "      <td>28-00:00:00</td>\n",
       "      <td>n029</td>\n",
       "      <td>/net/pulsar/home/koes/mtr22/ipython-notebooks/...</td>\n",
       "      <td>NaN</td>\n",
       "    </tr>\n",
       "    <tr>\n",
       "      <th>14</th>\n",
       "      <td>7629421</td>\n",
       "      <td>any_cpu</td>\n",
       "      <td>my_job_3_0</td>\n",
       "      <td>mtr22</td>\n",
       "      <td>R</td>\n",
       "      <td>0:00</td>\n",
       "      <td>28-00:00:00</td>\n",
       "      <td>n029</td>\n",
       "      <td>/net/pulsar/home/koes/mtr22/ipython-notebooks/...</td>\n",
       "      <td>NaN</td>\n",
       "    </tr>\n",
       "    <tr>\n",
       "      <th>15</th>\n",
       "      <td>7629422</td>\n",
       "      <td>any_cpu</td>\n",
       "      <td>my_job_3_1</td>\n",
       "      <td>mtr22</td>\n",
       "      <td>R</td>\n",
       "      <td>0:00</td>\n",
       "      <td>28-00:00:00</td>\n",
       "      <td>n029</td>\n",
       "      <td>/net/pulsar/home/koes/mtr22/ipython-notebooks/...</td>\n",
       "      <td>NaN</td>\n",
       "    </tr>\n",
       "  </tbody>\n",
       "</table>\n",
       "</div>"
      ],
      "text/plain": [
       "     job_id    queue    job_name   user job_state runtime     walltime  \\\n",
       "0   7629411  any_cpu  my_job_0_2  mtr22        CG    0:00  28-00:00:00   \n",
       "1   7629412  any_cpu  my_job_0_3  mtr22        CG    0:00  28-00:00:00   \n",
       "2   7629413  any_cpu  my_job_1_0  mtr22        CG    0:00  28-00:00:00   \n",
       "3   7629423  any_cpu  my_job_3_2  mtr22        PD    0:00  28-00:00:00   \n",
       "4   7629424  any_cpu  my_job_3_3  mtr22        PD    0:00  28-00:00:00   \n",
       "5   7629409  any_cpu  my_job_0_0  mtr22         R    0:00  28-00:00:00   \n",
       "6   7629410  any_cpu  my_job_0_1  mtr22         R    0:00  28-00:00:00   \n",
       "7   7629414  any_cpu  my_job_1_1  mtr22         R    0:00  28-00:00:00   \n",
       "8   7629415  any_cpu  my_job_1_2  mtr22         R    0:00  28-00:00:00   \n",
       "9   7629416  any_cpu  my_job_1_3  mtr22         R    0:00  28-00:00:00   \n",
       "10  7629417  any_cpu  my_job_2_0  mtr22         R    0:00  28-00:00:00   \n",
       "11  7629418  any_cpu  my_job_2_1  mtr22         R    0:00  28-00:00:00   \n",
       "12  7629419  any_cpu  my_job_2_2  mtr22         R    0:00  28-00:00:00   \n",
       "13  7629420  any_cpu  my_job_2_3  mtr22         R    0:00  28-00:00:00   \n",
       "14  7629421  any_cpu  my_job_3_0  mtr22         R    0:00  28-00:00:00   \n",
       "15  7629422  any_cpu  my_job_3_1  mtr22         R    0:00  28-00:00:00   \n",
       "\n",
       "       node_id                                           work_dir  array_idx  \n",
       "0         n029  /net/pulsar/home/koes/mtr22/ipython-notebooks/...        NaN  \n",
       "1         n029  /net/pulsar/home/koes/mtr22/ipython-notebooks/...        NaN  \n",
       "2         n029  /net/pulsar/home/koes/mtr22/ipython-notebooks/...        NaN  \n",
       "3       (None)  /net/pulsar/home/koes/mtr22/ipython-notebooks/...        NaN  \n",
       "4   (Priority)  /net/pulsar/home/koes/mtr22/ipython-notebooks/...        NaN  \n",
       "5         n029  /net/pulsar/home/koes/mtr22/ipython-notebooks/...        NaN  \n",
       "6         n029  /net/pulsar/home/koes/mtr22/ipython-notebooks/...        NaN  \n",
       "7         n029  /net/pulsar/home/koes/mtr22/ipython-notebooks/...        NaN  \n",
       "8         n029  /net/pulsar/home/koes/mtr22/ipython-notebooks/...        NaN  \n",
       "9         n029  /net/pulsar/home/koes/mtr22/ipython-notebooks/...        NaN  \n",
       "10        n029  /net/pulsar/home/koes/mtr22/ipython-notebooks/...        NaN  \n",
       "11        n029  /net/pulsar/home/koes/mtr22/ipython-notebooks/...        NaN  \n",
       "12        n029  /net/pulsar/home/koes/mtr22/ipython-notebooks/...        NaN  \n",
       "13        n029  /net/pulsar/home/koes/mtr22/ipython-notebooks/...        NaN  \n",
       "14        n029  /net/pulsar/home/koes/mtr22/ipython-notebooks/...        NaN  \n",
       "15        n029  /net/pulsar/home/koes/mtr22/ipython-notebooks/...        NaN  "
      ]
     },
     "execution_count": 6,
     "metadata": {},
     "output_type": "execute_result"
    }
   ],
   "source": [
    "qstat = param_search.status(job=job_ids)\n",
    "qstat"
   ]
  },
  {
   "cell_type": "markdown",
   "metadata": {},
   "source": [
    "## 6) Check completed jobs for errors\n",
    "The `errors` function reads stderr files for the most recent submission of a list of job scripts and parses them for error messages."
   ]
  },
  {
   "cell_type": "code",
   "execution_count": 7,
   "metadata": {
    "scrolled": false
   },
   "outputs": [
    {
     "name": "stdout",
     "output_type": "stream",
     "text": [
      "................"
     ]
    },
    {
     "data": {
      "text/plain": [
       "['ZeroDivisionError: division by zero',\n",
       " None,\n",
       " None,\n",
       " None,\n",
       " 'ZeroDivisionError: division by zero',\n",
       " None,\n",
       " None,\n",
       " None,\n",
       " 'ZeroDivisionError: division by zero',\n",
       " None,\n",
       " None,\n",
       " None,\n",
       " 'ZeroDivisionError: division by zero',\n",
       " None,\n",
       " None,\n",
       " None]"
      ]
     },
     "execution_count": 7,
     "metadata": {},
     "output_type": "execute_result"
    }
   ],
   "source": [
    "param_search.errors(job_files)"
   ]
  },
  {
   "cell_type": "markdown",
   "metadata": {},
   "source": [
    "## 7) Aggregate output metrics of completed jobs\n",
    "The `metrics` function reads csv-style output files for a list of job scripts, concatenates them, and indexes them with the job parameters."
   ]
  },
  {
   "cell_type": "code",
   "execution_count": 8,
   "metadata": {},
   "outputs": [
    {
     "data": {
      "text/html": [
       "<div>\n",
       "<style scoped>\n",
       "    .dataframe tbody tr th:only-of-type {\n",
       "        vertical-align: middle;\n",
       "    }\n",
       "\n",
       "    .dataframe tbody tr th {\n",
       "        vertical-align: top;\n",
       "    }\n",
       "\n",
       "    .dataframe thead th {\n",
       "        text-align: right;\n",
       "    }\n",
       "</style>\n",
       "<table border=\"1\" class=\"dataframe\">\n",
       "  <thead>\n",
       "    <tr style=\"text-align: right;\">\n",
       "      <th></th>\n",
       "      <th></th>\n",
       "      <th></th>\n",
       "      <th>product</th>\n",
       "      <th>quotient</th>\n",
       "    </tr>\n",
       "    <tr>\n",
       "      <th>term1</th>\n",
       "      <th>term2</th>\n",
       "      <th>job_name</th>\n",
       "      <th></th>\n",
       "      <th></th>\n",
       "    </tr>\n",
       "  </thead>\n",
       "  <tbody>\n",
       "    <tr>\n",
       "      <th rowspan=\"5\" valign=\"top\">0</th>\n",
       "      <th rowspan=\"5\" valign=\"top\">0</th>\n",
       "      <th>my_job_0_0</th>\n",
       "      <td>0</td>\n",
       "      <td>NaN</td>\n",
       "    </tr>\n",
       "    <tr>\n",
       "      <th>my_job_0_0</th>\n",
       "      <td>0</td>\n",
       "      <td>NaN</td>\n",
       "    </tr>\n",
       "    <tr>\n",
       "      <th>my_job_0_0</th>\n",
       "      <td>0</td>\n",
       "      <td>NaN</td>\n",
       "    </tr>\n",
       "    <tr>\n",
       "      <th>my_job_0_0</th>\n",
       "      <td>0</td>\n",
       "      <td>NaN</td>\n",
       "    </tr>\n",
       "    <tr>\n",
       "      <th>my_job_0_0</th>\n",
       "      <td>0</td>\n",
       "      <td>NaN</td>\n",
       "    </tr>\n",
       "    <tr>\n",
       "      <th>...</th>\n",
       "      <th>...</th>\n",
       "      <th>...</th>\n",
       "      <td>...</td>\n",
       "      <td>...</td>\n",
       "    </tr>\n",
       "    <tr>\n",
       "      <th rowspan=\"5\" valign=\"top\">3</th>\n",
       "      <th rowspan=\"5\" valign=\"top\">3</th>\n",
       "      <th>my_job_3_3</th>\n",
       "      <td>9</td>\n",
       "      <td>1.0</td>\n",
       "    </tr>\n",
       "    <tr>\n",
       "      <th>my_job_3_3</th>\n",
       "      <td>9</td>\n",
       "      <td>1.0</td>\n",
       "    </tr>\n",
       "    <tr>\n",
       "      <th>my_job_3_3</th>\n",
       "      <td>9</td>\n",
       "      <td>1.0</td>\n",
       "    </tr>\n",
       "    <tr>\n",
       "      <th>my_job_3_3</th>\n",
       "      <td>9</td>\n",
       "      <td>1.0</td>\n",
       "    </tr>\n",
       "    <tr>\n",
       "      <th>my_job_3_3</th>\n",
       "      <td>9</td>\n",
       "      <td>1.0</td>\n",
       "    </tr>\n",
       "  </tbody>\n",
       "</table>\n",
       "<p>329 rows × 2 columns</p>\n",
       "</div>"
      ],
      "text/plain": [
       "                        product  quotient\n",
       "term1 term2 job_name                     \n",
       "0     0     my_job_0_0        0       NaN\n",
       "            my_job_0_0        0       NaN\n",
       "            my_job_0_0        0       NaN\n",
       "            my_job_0_0        0       NaN\n",
       "            my_job_0_0        0       NaN\n",
       "...                         ...       ...\n",
       "3     3     my_job_3_3        9       1.0\n",
       "            my_job_3_3        9       1.0\n",
       "            my_job_3_3        9       1.0\n",
       "            my_job_3_3        9       1.0\n",
       "            my_job_3_3        9       1.0\n",
       "\n",
       "[329 rows x 2 columns]"
      ]
     },
     "execution_count": 8,
     "metadata": {},
     "output_type": "execute_result"
    }
   ],
   "source": [
    "metrics = param_search.metrics(job_files)\n",
    "metrics"
   ]
  },
  {
   "cell_type": "markdown",
   "metadata": {},
   "source": [
    "## 8) Plot metrics with respect to parameters\n",
    "The `plot` function allows you to visualize the effects of parameters on job output metrics. It plots each metric against each parameter on separate axes, grouping by all of the other parameters. This default behavior can be altered by specifying different values for the `x`, `y`, and `hue` arguments."
   ]
  },
  {
   "cell_type": "code",
   "execution_count": 9,
   "metadata": {
    "scrolled": false
   },
   "outputs": [
    {
     "data": {
      "image/png": "[encoded data removed]",
      "text/plain": [
       "<Figure size 432x432 with 4 Axes>"
      ]
     },
     "metadata": {
      "needs_background": "light"
     },
     "output_type": "display_data"
    }
   ],
   "source": [
    "fig = param_search.plot(metrics)"
   ]
  },
  {
   "cell_type": "code",
   "execution_count": null,
   "metadata": {},
   "outputs": [],
   "source": []
  }
 ],
 "metadata": {
  "kernelspec": {
   "display_name": "Python 3",
   "language": "python",
   "name": "python3"
  },
  "language_info": {
   "codemirror_mode": {
    "name": "ipython",
    "version": 3
   },
   "file_extension": ".py",
   "mimetype": "text/x-python",
   "name": "python",
   "nbconvert_exporter": "python",
   "pygments_lexer": "ipython3",
   "version": "3.6.9"
  }
 },
 "nbformat": 4,
 "nbformat_minor": 4
}
